{
 "cells": [
  {
   "cell_type": "code",
   "execution_count": 5,
   "id": "d7915262-4e3d-478f-a8ba-151cfad7b0f2",
   "metadata": {},
   "outputs": [
    {
     "name": "stdout",
     "output_type": "stream",
     "text": [
      "5.0\n",
      "1.2\n",
      "-2.5\n",
      "-0.8\n"
     ]
    }
   ],
   "source": [
    "# Multiply the data \n",
    "\n",
    "\n",
    "# If '0' is present in the start of theta simply add '0' to other samples at front as well #\n",
    "\n",
    "theta = [2, 1, 0.5, -1]\n",
    "sample_1 = [1, 0, 0, -3]\n",
    "sample_2 = [0, 0.1, 0.2, -1]\n",
    "sample_3 = [-2, 0, 3, 0]\n",
    "sample_4 = [-1, 0.2, 1, -0.5]\n",
    "\n",
    "sample_1_product = []\n",
    "sample_2_product = []\n",
    "sample_3_product = []\n",
    "sample_4_product = []\n",
    "\n",
    "for num1, num2 in zip(theta, sample_1):\n",
    "    sample_1_product.append(num1 * num2)\n",
    "\n",
    "for num1, num2 in zip(theta, sample_2):\n",
    "    sample_2_product.append(num1 * num2)\n",
    "\n",
    "for num1, num2 in zip(theta, sample_3):\n",
    "    sample_3_product.append(num1 * num2)\n",
    "\n",
    "for num1, num2 in zip(theta, sample_4):\n",
    "    sample_4_product.append(num1 * num2)    \n",
    "\n",
    "sample_1_sum = sum(sample_1_product)\n",
    "sample_2_sum = sum(sample_2_product)\n",
    "sample_3_sum = sum(sample_3_product)\n",
    "sample_4_sum = sum(sample_4_product)\n",
    "\n",
    "print(sample_1_sum)\n",
    "print(sample_2_sum)\n",
    "print(sample_3_sum)\n",
    "print(sample_4_sum)"
   ]
  },
  {
   "cell_type": "code",
   "execution_count": 2,
   "id": "2a4fb8ed-f31d-4064-b019-7d2eb0ec3cca",
   "metadata": {
    "tags": []
   },
   "outputs": [
    {
     "name": "stdout",
     "output_type": "stream",
     "text": [
      "The Mean Square Error is:  2.565\n"
     ]
    }
   ],
   "source": [
    "# Computation for MSE\n",
    "\n",
    "y = [5, 1.2, -2.5, -0.8]\n",
    "y_bar = [8, 1.3, -1.5, -0.3]\n",
    "summation = 0  #variable to store the summation of differences\n",
    "n = len(y) #finding total number of items in list\n",
    "for i in range (0,n):  #looping through each element of the list\n",
    "  difference = y[i] - y_bar[i]  #finding the difference between observed and predicted value\n",
    "  squared_difference = difference**2  #taking square of the differene \n",
    "  summation = summation + squared_difference  #taking a sum of all the differences\n",
    "MSE = summation/n  #dividing summation by total values to obtain average\n",
    "print (\"The Mean Square Error is: \" , MSE)"
   ]
  },
  {
   "cell_type": "code",
   "execution_count": null,
   "id": "5fffa3af-a6c3-4a4b-b5f1-2eb683819c00",
   "metadata": {},
   "outputs": [],
   "source": []
  }
 ],
 "metadata": {
  "kernelspec": {
   "display_name": "Python 3 (ipykernel)",
   "language": "python",
   "name": "python3"
  },
  "language_info": {
   "codemirror_mode": {
    "name": "ipython",
    "version": 3
   },
   "file_extension": ".py",
   "mimetype": "text/x-python",
   "name": "python",
   "nbconvert_exporter": "python",
   "pygments_lexer": "ipython3",
   "version": "3.8.10"
  }
 },
 "nbformat": 4,
 "nbformat_minor": 5
}
