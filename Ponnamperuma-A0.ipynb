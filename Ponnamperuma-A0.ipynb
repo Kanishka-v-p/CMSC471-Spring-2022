{
 "cells": [
  {
   "cell_type": "markdown",
   "metadata": {},
   "source": [
    "# CMSC471 - Assignment 0: Tech Setup and Getting Started with AI\n",
    "\n",
    "## Instructor: Fereydoon Vafaei"
   ]
  },
  {
   "cell_type": "markdown",
   "metadata": {},
   "source": [
    "Name: - Kanishka Ponnamperuma, ID: - CO26615"
   ]
  },
  {
   "cell_type": "markdown",
   "metadata": {},
   "source": [
    "## Overview and Learning Objectives"
   ]
  },
  {
   "cell_type": "markdown",
   "metadata": {},
   "source": [
    "This assignment prepares you for the upcoming assignments to make sure that you have setup the frameworks properly. It also provides some interesting resources to get started with the AI world.\n",
    "\n",
    "<b>Note</b>: You must download this notebook as .ipynb file, complete it on your own computer (do NOT run it on colab), and then submit the completed notebook as an .ipynb file to Blackboard."
   ]
  },
  {
   "cell_type": "markdown",
   "metadata": {},
   "source": [
    "# Part 1 - Python Setup"
   ]
  },
  {
   "cell_type": "markdown",
   "metadata": {},
   "source": [
    "In <b>Part 1</b> of this Jupyter Notebook, you should run the following cell and make sure that your Python version is correct. Depending on what OS you're using, your output might be slightly different but the Python version must be 3.5 or higher."
   ]
  },
  {
   "cell_type": "code",
   "execution_count": 1,
   "metadata": {},
   "outputs": [
    {
     "name": "stdout",
     "output_type": "stream",
     "text": [
      "Python version\n",
      "3.8.10 (default, Nov 26 2021, 20:14:08) \n",
      "[GCC 9.3.0]\n",
      "Version info.\n",
      "sys.version_info(major=3, minor=8, micro=10, releaselevel='final', serial=0)\n"
     ]
    }
   ],
   "source": [
    "import sys\n",
    "print(\"Python version\")\n",
    "print (sys.version)\n",
    "print(\"Version info.\")\n",
    "print (sys.version_info)"
   ]
  },
  {
   "cell_type": "markdown",
   "metadata": {},
   "source": [
    "> Next, run the following cell which is an example of using [matplotlib](https://matplotlib.org/gallery/index.html)."
   ]
  },
  {
   "cell_type": "code",
   "execution_count": 2,
   "metadata": {},
   "outputs": [
    {
     "name": "stdout",
     "output_type": "stream",
     "text": [
      "[70.2, 66, 80.3, 95.2, 80, 91]\n"
     ]
    },
    {
     "data": {
      "text/plain": [
       "Text(0, 0.5, 'Grade')"
      ]
     },
     "execution_count": 2,
     "metadata": {},
     "output_type": "execute_result"
    },
    {
     "data": {
      "image/png": "[encoded data removed]",
      "text/plain": [
       "<Figure size 432x288 with 1 Axes>"
      ]
     },
     "metadata": {
      "needs_background": "light"
     },
     "output_type": "display_data"
    }
   ],
   "source": [
    "import matplotlib.pyplot as plt\n",
    "%matplotlib inline\n",
    "\n",
    "# Create a list of grades\n",
    "grades = [70.2, 66, 80.3, 95.2, 80, 91]\n",
    "\n",
    "# Print the list\n",
    "print(grades)\n",
    "\n",
    "# Plot grades\n",
    "plt.plot(grades,'-o')\n",
    "plt.xlabel('Assignment')\n",
    "plt.ylabel('Grade')"
   ]
  },
  {
   "cell_type": "markdown",
   "metadata": {},
   "source": [
    "## Part 2 - AI Myths vs Facts"
   ]
  },
  {
   "cell_type": "markdown",
   "metadata": {},
   "source": [
    "In Part 2, you should first read the following article: [Benefits & Risks of Artificial Intelligence](https://futureoflife.org/background/benefits-risks-of-artificial-intelligence/?cn-reloaded=1)\n",
    "\n",
    "Then, pick one of the Myths vs Facts mentioned in the article, quote it and then expand it by including and explaining your own opinion in at least one paragraph."
   ]
  },
  {
   "cell_type": "markdown",
   "metadata": {},
   "source": [
    "YOUR ANSWER GOES HERE:\n",
    "\n",
    "One of the myth's that were mentioned in the article was \"AI turning evil or AI turning conscious\" this was accompanied by the author explaining how many articles use bold headlines that summarizes scenarios which AI researchers may not worry about. The author has used good points to summarize the three main misconceptions from the quote that are concerns about \"consciousness, evil and robots\". The author has explained the concept of AI turning evil by quoting the fact that it would be competence that would be the major reason. And I must agree with that point as if an AI is programmed to eradicate global warming completely and they deem humans as being the ones that are stopping it then their end goal may be to wipe away the humans so that the global warming can be solved. We can also build upon the second misconception that would be \"AI turning conscious\". As the author has stated this misconception came to light simply due to the fact that \"AI can't have goals\" however he builds upon the fact that AI can in fact have goals and this was backed up by his example of a heat-seeking missile. I agree with that statement as well as we can directly use that idea on the earlier example that I had stated which was an AI being programmed eradicate global warming completely. If we had not given the AI, any conditions the end result would be that humans would be wiped away from the face of the planet. This is because the goal of the AI was to end global warming, but the programmers have not given specific instructions to preserve every single human life on earth. In a sense the AI had achieved its goal albeit with the destruction of humanity. Hence from this what I understood is that AI isn’t evil in any general sense unless it was simply meant for it to become that way. Hence as the author has mentioned as humans we must use the knowledge that was given to us to prevent any disasters like this from happening."
   ]
  },
  {
   "cell_type": "markdown",
   "metadata": {},
   "source": [
    "## Part 3 - Self-Assembling Brain"
   ]
  },
  {
   "cell_type": "markdown",
   "metadata": {},
   "source": [
    "Read the following article: [What AI researchers can learn from the self-assembling brain](https://bdtechtalks.com/2021/08/16/self-assembling-brain-book/)\n",
    "\n",
    "Summarize the article in at least four paragraphs in the following cell. Your summary should include the following four sections:\n",
    "- Arguments of Prof. Peter Robin Hiesinger with regards to genome and genetics\n",
    "- Why self-assembly is largely ignored in AI research\n",
    "- Searching for shortcuts to AI\n",
    "- New ways to think about artificial general intelligence\n",
    "\n",
    "DO NOT COPY/PASTE the article sentences, as it would be considered as plagiarism, and will be reported as academic misconduct."
   ]
  },
  {
   "cell_type": "markdown",
   "metadata": {},
   "source": [
    "Your summary goes HERE:\n",
    "\n",
    "\n",
    "Some of the arguments that Prof. Peter Robin Hiesinger makes with regard to genome and genetics is that of regarding how the brain would be creating itself. As the professor dictates that we should be looking at how information that is encoded within the genome would become the brain as we do not have detailed knowledge of how the genome (“The Program”) builds the human body. Heisinger also describes the genetic algorithm as one that develops new states, and these states would then be used to form the basis of next developments. The steps work in such a way that bits of genomes would be used to produce specific genes products that eventually lead to other parts of genomes being activated, hence producing a loop. Hence through this the genomes that are present in the human body contain information required to make the brain but are not blueprints of it. Heisinger explains that the genome is more of an algorithm that develops over time. This is where the biggest difference between biological brains and artificial neural networks come to play and that is “Self-Assembly”. Even though artificial neural networks start with some predefined data where the data maybe initialized to some random variables the neural network would eventually tune those specific variables as it is fed vast amounts of data. In comparison the biological brain works by having prior environmental input and development being stored in the brain’s neural network. Overtime the biological brain would grow and re-encode through growth.\n",
    "\n",
    "Prof. Hiesinger states that the main reason for self-assembly being ignored is due to the high computational requirements needed compared to what deep learning is. Many require a justification of what artificial life can provide compared to deep learning but due to the lack of funding and availability of computational power and data it isn’t possible. Heisinger is hopeful that in the future with quantum computing it might be possible.\n",
    "\n",
    "Many researchers tend to find shortcuts as they believe by not implementing unnecessary biological details, they would not have to imitate how nature works. Thereby AI researchers would rather build models that would approximate how the brain would work rather than making an AI based on genetic development. In an instance where researchers would use 1GB of genome information and algorithms and execution cycles can lead to complex systems being built. Prof. Heisinger explains that a simple genome given enough time can produce infinite complexity just like the brain does. Eventually it would lead to a point where the complex entity would surpass that of its original state. In the end however the lack of appreciation in the field of information theory and biology this is being let down. Even some biologists are to blame as they are also simply trying to find single genes and molecules that help wire the brain rather than exploring further.\n",
    "\n",
    "Artificial general intelligence is different compared to the narrow AI applications as with general intelligence the goal would be to replicate humans in silicon. The biggest difficulty comes in understanding what the general aspect of Artificial general intelligence would be as when considering human specific type intelligence many tend to compare it in levels such as playing chess or classifying images rather than taking into account how humans can operate, make decisions and solve problems that make them an intelligent entity of their own. Once levels are being compared the general aspect of Artificial general intelligence tends to be lost. Hence Prof. Heisinger states that the only way to make human brains human is through the biological way with genomes and no shortcuts. Hence the same concept should also be applied to AI. "
   ]
  },
  {
   "cell_type": "markdown",
   "metadata": {},
   "source": [
    "## Part 4 - AI Bias"
   ]
  },
  {
   "cell_type": "markdown",
   "metadata": {},
   "source": [
    "Read the following article: [\"This is how AI bias really happens—and why it’s so hard to fix\"](https://www.technologyreview.com/2019/02/04/137602/this-is-how-ai-bias-really-happensand-why-its-so-hard-to-fix/#Echobox=1577128721).\n",
    "Summarize the article in at least two paragraphs. Your summary shopuld include the following two sections:\n",
    "- How AI bias happens\n",
    "- Why AI bias is hard to fix\n",
    "\n",
    "DO NOT COPY/PASTE the article sentences, as it would be considered as plagiarism, and will be reported as academic misconduct."
   ]
  },
  {
   "cell_type": "markdown",
   "metadata": {},
   "source": [
    "Your summary goes HERE:\n",
    "\n",
    "There are several stages in which AI bias can occur and some of them are as follows, during trying to figure out what a deep learning model should achieve. However, this raises issues such as fairness. In the example of a company using AI to maximize its profits may produce a result that would be unfair to the end consumer but produce massive profits to the company. Another would be the data that is being fed to the AI. As many times the data that is being fed maybe unrepresentative of reality or reflecting prejudices that exist in the modern world such as an example would be if the training data comprises more of light skinned people rather than dark skinned people. The final stage of bias would be introduced during the tweaking of specific variables in the algorithm such that the algorithm would tend to prefer specific data with the provided attributes. As this would eventually influence how the model’s prediction accuracy would work and if left un-tweaked for a long period of time it would simply learn through that and then become harder to figure the end bias.\n",
    "\n",
    "Fixing AI bias is difficult in its own way, a few of the reasons as specified as follows. The main one being that we may not always know that there is a bias being introduced until much later. And due to this identifying, what caused the bias and fixing it becomes extremely difficult as you must step back quite a bit to find the cause. Another reason would be the “imperfect process” as where during the creation of deep learning models bias would not be considered and rather only consideration of performance. And to make matters worse during the practice the data is split into two groups where one is used for training and the other for validation and both data sets contain bias as it wasn’t taken into consideration. Another reason would be “Lack of social context” this occurs when computer scientists don’t take the idea of social problems into consideration when their systems are being built. As there are different communities/countries and groups of people who have different views and goals compared to others hence training an AI in one country and applying the same knowledge in a different country may not yield the exact results that one would be hoping for. Finally, the last reason would be “Definition of Fairness” as this is extremely difficult to designate in terms of mathematical terms to what an AI can understand. Here the mathematical terms such as setting the correct false positive and false negative rates. But the difficulty becomes in questioning what are the limits to what should be set such that they become fair for all. For most other fields of research, the answer to the question is one that changes over time however in computer science the field has been fixed and this means that the AI model would be out of sync with the modern society.      "
   ]
  },
  {
   "cell_type": "markdown",
   "metadata": {},
   "source": [
    "##  Grading"
   ]
  },
  {
   "cell_type": "markdown",
   "metadata": {},
   "source": [
    "- Assignment-0 has 22 points. The breakdown of the points is a s follows:\n",
    "    - Part 1: 5 points\n",
    "    - Part 2: 5 points\n",
    "    - Part 3: 8 points\n",
    "    - Part 4: 4 points\n",
    "\n",
    "- Grading will be based on completeness and correctness of all the required tasks, prompts and summaries.\n",
    "\n",
    "- <b>Note:</b> Incomplete summaries will get ZERO. Copy/pasted summaries will get ZERO and will be reported as academic misconduct.\n",
    "\n",
    "- Points will be deducted if you have mistakes in naming the file."
   ]
  },
  {
   "cell_type": "markdown",
   "metadata": {},
   "source": [
    "## Submission"
   ]
  },
  {
   "cell_type": "markdown",
   "metadata": {},
   "source": [
    "Name your completed notebook ```Lastname-A0.ipynb```.  \n",
    "\n",
    "Submit the .ipynb file using the ```Assignment-0``` link on Blackboard.\n",
    "  \n",
    "<font color=red><b>Due Date: Thursday Feb 10th, 11:59PM</b></font>"
   ]
  }
 ],
 "metadata": {
  "anaconda-cloud": {},
  "kernelspec": {
   "display_name": "Python 3 (ipykernel)",
   "language": "python",
   "name": "python3"
  },
  "language_info": {
   "codemirror_mode": {
    "name": "ipython",
    "version": 3
   },
   "file_extension": ".py",
   "mimetype": "text/x-python",
   "name": "python",
   "nbconvert_exporter": "python",
   "pygments_lexer": "ipython3",
   "version": "3.8.10"
  }
 },
 "nbformat": 4,
 "nbformat_minor": 4
}
