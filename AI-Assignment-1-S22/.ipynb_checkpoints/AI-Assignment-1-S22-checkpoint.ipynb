{
 "cells": [
  {
   "cell_type": "markdown",
   "metadata": {},
   "source": [
    "# CMSC471 Artificial Intelligence - Spring 2022\n",
    "# Instructor: Fereydoon Vafaei\n",
    "# <font color=blue> Assignment-1: Solving Problems by Search </font>"
   ]
  },
  {
   "cell_type": "markdown",
   "metadata": {},
   "source": [
    "Name: - Kanishka Ponnamperuma, ID: - CO26615"
   ]
  },
  {
   "cell_type": "markdown",
   "metadata": {},
   "source": [
    "## Overview, Policies, and Learning Objectives"
   ]
  },
  {
   "cell_type": "markdown",
   "metadata": {},
   "source": [
    "We've studied two types of search algorithms during the recent lectures: Uninformed Search and Informed Search.\n",
    "\n",
    "Uninformed Search (aka blind search) refers to the search strategies that do not use additional information about states and goal of the search - nothing beyond the provided problem definition. The first algorithms that we studied from Chapter 3 of the Russel & Norvig textbook were Breadth First Search (BFS) and Depth First Search (DFS) which both fall into the category of Uniformed Search.\n",
    "\n",
    "We also studied how we can modify DFS to combine the advantages of BFS (completeness and conditional optimality) with the main advantage of DFS --space complexity of $O(bm)$ where $b$ is the branching factor and $m$ is the maximum depth of the search space. Limited Depth Search and Iterative Deepening DFS were two algorithms that we studied in that section and you are going to use them in Part I of this assignment.\n",
    "\n",
    "In Part II, you are going to practice Informed Search algorithms and heuristic functions.\n",
    "\n",
    "Finally, in Part III, you will work on an example graph by applying A* and checking whether the provided heuristic is admissible and consistent or not.\n",
    "\n",
    "Pedagogically, this assignment will help you:\n",
    "- better understand how search algorithms are implemented and work in practice. \n",
    "- practice reading documentation. This is a very important skill in AI/ML/Data Science collaborative environments and teams."
   ]
  },
  {
   "cell_type": "markdown",
   "metadata": {},
   "source": [
    "<b>Very Important Note:</b> Read ALL the instructions in this notebook very carefully. **Wherever a link is provided, click on the link and read the resource!** Careless reading and skipping instructions are major sources of making mistakes and losing points in your assignments. Also note that this assignment has three parts and includes multiple steps and questions. You're strongly recommended to get started early and plan to finish well before the due date. Technical problems or other issues/questions on the due date or just a day before would NOT be accepted as an excuse for extension."
   ]
  },
  {
   "cell_type": "markdown",
   "metadata": {},
   "source": [
    "<b>Course Policy Reminder</b>\n",
    "Debugging the codes and error resolution are ALWAYS the students' responsbility regardless of the source or the cause of the error. This policy will be enforced in email communications and the office hours. Keep in mind that all assignments are individual graded tasks. Any collaboration with other students is strictly prohibited and is considered as cheating. Students should NOT share any answer, solution, or code with other students. Violations of these policies would be penalized according to UMBC academic integrity policy.\n",
    "\n",
    "**You must run ALL cells** and get the correct outputs for all cells and give complete answers to all questions. **Cells/codes with no output get zero!**\n",
    "\n",
    "Follow the instructions for each step very carefully.\n",
    "\n",
    "Wherever needed, you should replace `...` elipsis with your code.\n",
    "\n",
    "`...` may indicate one or more lines of missing codes. Some outputs are provided to you to use as reference and to verify that your output is correct. **Note that the other outputs are NOT provided intentionally** as you are responsible to generate the correct outputs for all coding cells."
   ]
  },
  {
   "cell_type": "markdown",
   "metadata": {},
   "source": [
    "## Part I - Uninformed Search"
   ]
  },
  {
   "cell_type": "markdown",
   "metadata": {},
   "source": [
    "In <b>Part I</b> of this assignment, you are going to apply Uninformed Search algorithms on a couple of search problems.\n",
    "\n",
    "First, download the search notebook from AIMA GitHub repo. Make sure that it is the 4th edition:\n",
    "https://github.com/aimacode/aima-python/blob/master/search4e.ipynb\n",
    "\n",
    "You should use any of the classes and functions of `search4e.ipynb` that is needed to solve the problems. You can copy and paste the borrowed code or a modified version of the classes and function in `search4e.ipynb`. You can add cells in each part where needed and copy/paste/modify the code wherever needed."
   ]
  },
  {
   "cell_type": "markdown",
   "metadata": {},
   "source": [
    "### Import Cells"
   ]
  },
  {
   "cell_type": "markdown",
   "metadata": {},
   "source": [
    "**Note-1:** In this assignment, students are required to borrow any necessary class or function from `search4e.ipynb` in the following cells, and add/modify the code wherever it is needed. You are required to specify via comment line at the top of an import cell to mark it as an import cell. You are also required to resolve any issues or errors that may arise to make all the imported codes run error-free. You can import all codes in one or multiple cells but make sure you import classes and function in the order that they are used.\n",
    "\n",
    "**Note-2:** You don't need to use `import` command to borrow code from `search4e.ipynb`; you can simply copy/paste any code from `search4e.ipynb` and modify it if needed. You are responsible to resolve any errors that may arise.\n",
    "\n",
    "**Note-3:** Keep in mind that you don't have to import all the codes in one cell (although you can do that if you want to). You can import the code (class/function/etc) from `search4e.ipynb` right before the cell that calls them, so you may have multiple import cells in your notebook."
   ]
  },
  {
   "cell_type": "code",
   "execution_count": 1,
   "metadata": {},
   "outputs": [],
   "source": [
    "# Imported Cells #\n",
    "\n",
    "%matplotlib inline\n",
    "import matplotlib.pyplot as plt\n",
    "import random\n",
    "import heapq\n",
    "import math\n",
    "import sys\n",
    "import copy\n",
    "from collections import defaultdict, deque, Counter\n",
    "from itertools import combinations\n",
    "\n",
    "\n",
    "# Problem Function #\n",
    "\n",
    "class Problem(object):\n",
    "    \"\"\"The abstract class for a formal problem. A new domain subclasses this,\n",
    "    overriding `actions` and `results`, and perhaps other methods.\n",
    "    The default heuristic is 0 and the default action cost is 1 for all states.\n",
    "    When yiou create an instance of a subclass, specify `initial`, and `goal` states \n",
    "    (or give an `is_goal` method) and perhaps other keyword args for the subclass.\"\"\"\n",
    "\n",
    "    def __init__(self, initial=None, goal=None, **kwds): \n",
    "        self.__dict__.update(initial=initial, goal=goal, **kwds) \n",
    "        \n",
    "    def actions(self, state):        raise NotImplementedError\n",
    "    def result(self, state, action): raise NotImplementedError\n",
    "    def is_goal(self, state):        return state == self.goal\n",
    "    def action_cost(self, s, a, s1): return 1\n",
    "    def h(self, node):               return 0\n",
    "    \n",
    "    def __str__(self):\n",
    "        return '{}({!r}, {!r})'.format(\n",
    "            type(self).__name__, self.initial, self.goal)\n",
    "\n",
    "class Node:\n",
    "    \"A Node in a search tree.\"\n",
    "    def __init__(self, state, parent=None, action=None, path_cost=0):\n",
    "        self.__dict__.update(state=state, parent=parent, action=action, path_cost=path_cost)\n",
    "\n",
    "    def __repr__(self): return '<{}>'.format(self.state)\n",
    "    def __len__(self): return 0 if self.parent is None else (1 + len(self.parent))\n",
    "    def __lt__(self, other): return self.path_cost < other.path_cost\n",
    "    \n",
    "    \n",
    "failure = Node('failure', path_cost=math.inf) # Indicates an algorithm couldn't find a solution.\n",
    "cutoff  = Node('cutoff',  path_cost=math.inf) # Indicates iterative deepening search was cut off.\n",
    "    \n",
    "    \n",
    "def expand(problem, node):\n",
    "    \"Expand a node, generating the children nodes.\"\n",
    "    s = node.state\n",
    "    for action in problem.actions(s):\n",
    "        s1 = problem.result(s, action)\n",
    "        cost = node.path_cost + problem.action_cost(s, action, s1)\n",
    "        yield Node(s1, node, action, cost)\n",
    "        \n",
    "\n",
    "def path_actions(node):\n",
    "    \"The sequence of actions to get to this node.\"\n",
    "    if node.parent is None:\n",
    "        return []  \n",
    "    return path_actions(node.parent) + [node.action]\n",
    "\n",
    "\n",
    "def path_states(node):\n",
    "    \"The sequence of states to get to this node.\"\n",
    "    if node in (cutoff, failure, None): \n",
    "        return []\n",
    "    return path_states(node.parent) + [node.state]\n",
    "\n",
    "# Queue Function #\n",
    "    \n",
    "FIFOQueue = deque\n",
    "\n",
    "LIFOQueue = list\n",
    "\n",
    "class PriorityQueue:\n",
    "    \"\"\"A queue in which the item with minimum f(item) is always popped first.\"\"\"\n",
    "\n",
    "    def __init__(self, items=(), key=lambda x: x): \n",
    "        self.key = key\n",
    "        self.items = [] # a heap of (score, item) pairs\n",
    "        for item in items:\n",
    "            self.add(item)\n",
    "         \n",
    "    def add(self, item):\n",
    "        \"\"\"Add item to the queuez.\"\"\"\n",
    "        pair = (self.key(item), item)\n",
    "        heapq.heappush(self.items, pair)\n",
    "\n",
    "    def pop(self):\n",
    "        \"\"\"Pop and return the item with min f(item) value.\"\"\"\n",
    "        return heapq.heappop(self.items)[1]\n",
    "    \n",
    "    def top(self): return self.items[0][1]\n",
    "\n",
    "    def __len__(self): return len(self.items)\n",
    "\n",
    "# Search Functions #\n",
    "\n",
    "def best_first_search(problem, f):\n",
    "    \"Search nodes with minimum f(node) value first.\"\n",
    "    node = Node(problem.initial)\n",
    "    frontier = PriorityQueue([node], key=f)\n",
    "    reached = {problem.initial: node}\n",
    "    while frontier:\n",
    "        node = frontier.pop()\n",
    "        if problem.is_goal(node.state):\n",
    "            return node\n",
    "        for child in expand(problem, node):\n",
    "            s = child.state\n",
    "            if s not in reached or child.path_cost < reached[s].path_cost:\n",
    "                reached[s] = child\n",
    "                frontier.add(child)\n",
    "    return failure\n",
    "\n",
    "\n",
    "def best_first_tree_search(problem, f):\n",
    "    \"A version of best_first_search without the `reached` table.\"\n",
    "    frontier = PriorityQueue([Node(problem.initial)], key=f)\n",
    "    while frontier:\n",
    "        node = frontier.pop()\n",
    "        if problem.is_goal(node.state):\n",
    "            return node\n",
    "        for child in expand(problem, node):\n",
    "            if not is_cycle(child):\n",
    "                frontier.add(child)\n",
    "    return failure\n",
    "\n",
    "\n",
    "def g(n): return n.path_cost\n",
    "\n",
    "\n",
    "def breadth_first_bfs(problem):\n",
    "    \"Search shallowest nodes in the search tree first; using best-first.\"\n",
    "    return best_first_search(problem, f=len)\n",
    "\n",
    "\n",
    "def depth_first_bfs(problem):\n",
    "    \"Search deepest nodes in the search tree first; using best-first.\"\n",
    "    return best_first_search(problem, f=lambda n: -len(n))\n",
    "\n",
    "\n",
    "def is_cycle(node, k=30):\n",
    "    \"Does this node form a cycle of length k or less?\"\n",
    "    def find_cycle(ancestor, k):\n",
    "        return (ancestor is not None and k > 0 and\n",
    "                (ancestor.state == node.state or find_cycle(ancestor.parent, k - 1)))\n",
    "    return find_cycle(node.parent, k)\n",
    "\n",
    "# Map Function #\n",
    "\n",
    "class Map:\n",
    "    \"\"\"A map of places in a 2D world: a graph with vertexes and links between them. \n",
    "    In `Map(links, locations)`, `links` can be either [(v1, v2)...] pairs, \n",
    "    or a {(v1, v2): distance...} dict. Optional `locations` can be {v1: (x, y)} \n",
    "    If `directed=False` then for every (v1, v2) link, we add a (v2, v1) link.\"\"\"\n",
    "\n",
    "    def __init__(self, links, locations=None, directed=False):\n",
    "        if not hasattr(links, 'items'): # Distances are 1 by default\n",
    "            links = {link: 1 for link in links}\n",
    "        if not directed:\n",
    "            for (v1, v2) in list(links):\n",
    "                links[v2, v1] = links[v1, v2]\n",
    "        self.distances = links\n",
    "        self.neighbors = multimap(links)\n",
    "        self.locations = locations or defaultdict(lambda: (0, 0))\n",
    "\n",
    "        \n",
    "def multimap(pairs) -> dict:\n",
    "    \"Given (key, val) pairs, make a dict of {key: [val,...]}.\"\n",
    "    result = defaultdict(list)\n",
    "    for key, val in pairs:\n",
    "        result[key].append(val)\n",
    "    return result\n",
    "\n",
    "# Route Problem #\n",
    "\n",
    "class RouteProblem(Problem):\n",
    "    \"\"\"A problem to find a route between locations on a `Map`.\n",
    "    Create a problem with RouteProblem(start, goal, map=Map(...)}).\n",
    "    States are the vertexes in the Map graph; actions are destination states.\"\"\"\n",
    "    \n",
    "    def actions(self, state): \n",
    "        \"\"\"The places neighboring `state`.\"\"\"\n",
    "        return self.map.neighbors[state]\n",
    "    \n",
    "    def result(self, state, action):\n",
    "        \"\"\"Go to the `action` place, if the map says that is possible.\"\"\"\n",
    "        return action if action in self.map.neighbors[state] else state\n",
    "    \n",
    "    def action_cost(self, s, action, s1):\n",
    "        \"\"\"The distance (cost) to go from s to s1.\"\"\"\n",
    "        return self.map.distances[s, s1]\n",
    "    \n",
    "    def h(self, node):\n",
    "        \"Straight-line distance between state and the goal.\"\n",
    "        locs = self.map.locations\n",
    "        return straight_line_distance(locs[node.state], locs[self.goal])\n",
    "    \n",
    "    \n",
    "def straight_line_distance(A, B):\n",
    "    \"Straight-line distance between two points.\"\n",
    "    return sum(abs(a - b)**2 for (a, b) in zip(A, B)) ** 0.5\n"
   ]
  },
  {
   "cell_type": "markdown",
   "metadata": {},
   "source": [
    "### Route Finidng Problem"
   ]
  },
  {
   "cell_type": "markdown",
   "metadata": {},
   "source": [
    "Using `RouteProblem` and `Map` classes, define a few new problems as described below called `r5`, `r6`, `r7` that represent different routes on the following **directed** graph. Notice that the `Map` must be defined as **directed**.\n",
    "\n",
    "**Hint**: See how Romania map is defined in `search4e.ipynb`; however, you don't need locations in this case. Also, all the costs are assumed to be identical (the default cost value is 1)."
   ]
  },
  {
   "cell_type": "markdown",
   "metadata": {},
   "source": [
    "The `A1-graph` is illustrated below.\n",
    "\n",
    "<img src=\"A1-graph.png\" align=\"left\"/>"
   ]
  },
  {
   "cell_type": "code",
   "execution_count": 2,
   "metadata": {},
   "outputs": [],
   "source": [
    "# Imported Cells #\n",
    "\n",
    "A1_graph = Map(\n",
    "    {('a', 'b'), ('a', 'c'), ('a', 'd'),\n",
    "     ('b', 'e'), ('b', 'f'), ('b', 'g'),\n",
    "     ('c', 'h'), ('c', 'i'),\n",
    "     ('d', 'j'), ('d', 'k'),\n",
    "     ('e', 'l'), ('e', 'm'),\n",
    "     ('f', 'n'), ('f', 'o'),\n",
    "     ('g', 'p'), ('g', 'q'),\n",
    "     ('l', 'r'), ('l', 's'),\n",
    "     ('r', 't'), ('r', 'u')},\n",
    "    {'a':(0,0), 'b':(1,0), 'c':(1,1), 'd':(1,2), 'e':(2,0), 'f':(2,1), 'g':(2,2), 'h':(2,3), 'i':(2,4),\n",
    "     'j':(2,5), 'k':(2,6), 'l':(3,0), 'm':(3,1), 'n':(3,2), 'o':(3,3), 'p':(3,4), 'q':(3,5), 'r':(4,0),\n",
    "     's':(4,1), 't':(5,0), 'u':(5,1)}, directed=True)"
   ]
  },
  {
   "cell_type": "markdown",
   "metadata": {},
   "source": [
    "> `r5` should be defined from `a` to `m` <br>\n",
    "> `r6` should be defined from `a` to `u` <br>\n",
    "> `r7` should be defined from `b` to `d`"
   ]
  },
  {
   "cell_type": "code",
   "execution_count": 3,
   "metadata": {},
   "outputs": [],
   "source": [
    "r5 = RouteProblem('a', 'm', map=A1_graph)\n",
    "\n",
    "r6 = RouteProblem('a', 'u', map=A1_graph)\n",
    "\n",
    "r7 = RouteProblem('b', 'd', map=A1_graph)"
   ]
  },
  {
   "cell_type": "markdown",
   "metadata": {},
   "source": [
    ">Next, try DFS with some example tests on this graph. The correct output is provided for your reference."
   ]
  },
  {
   "cell_type": "code",
   "execution_count": 4,
   "metadata": {},
   "outputs": [
    {
     "data": {
      "text/plain": [
       "['a', 'b', 'e', 'm']"
      ]
     },
     "execution_count": 4,
     "metadata": {},
     "output_type": "execute_result"
    }
   ],
   "source": [
    "path_states(depth_first_bfs(r5))"
   ]
  },
  {
   "cell_type": "code",
   "execution_count": 5,
   "metadata": {},
   "outputs": [
    {
     "data": {
      "text/plain": [
       "['a', 'b', 'e', 'l', 'r', 'u']"
      ]
     },
     "execution_count": 5,
     "metadata": {},
     "output_type": "execute_result"
    }
   ],
   "source": [
    "path_states(depth_first_bfs(r6))"
   ]
  },
  {
   "cell_type": "markdown",
   "metadata": {},
   "source": [
    ">What if no path exists?! Let's try!"
   ]
  },
  {
   "cell_type": "code",
   "execution_count": 6,
   "metadata": {},
   "outputs": [
    {
     "data": {
      "text/plain": [
       "[]"
      ]
     },
     "execution_count": 6,
     "metadata": {},
     "output_type": "execute_result"
    }
   ],
   "source": [
    "# Non-existing path!\n",
    "path_states(depth_first_bfs(r7))"
   ]
  },
  {
   "cell_type": "markdown",
   "metadata": {},
   "source": [
    ">Next, try the tests on `r5` and `r6` with Depth-limited algorithm (with a max depth of 3) and Iterative-deepening search. Outputs are NOT provided for these tests."
   ]
  },
  {
   "cell_type": "code",
   "execution_count": 7,
   "metadata": {},
   "outputs": [],
   "source": [
    "# Import Cells\n",
    "\n",
    "\n",
    "def iterative_deepening_search(problem):\n",
    "    \"Do depth-limited search with increasing depth limits.\"\n",
    "    for limit in range(1, sys.maxsize):\n",
    "        result = depth_limited_search(problem, limit)\n",
    "        if result != cutoff:\n",
    "            return result\n",
    "        \n",
    "        \n",
    "def depth_limited_search(problem, limit=10):\n",
    "    \"Search deepest nodes in the search tree first.\"\n",
    "    frontier = LIFOQueue([Node(problem.initial)])\n",
    "    result = failure\n",
    "    while frontier:\n",
    "        node = frontier.pop()\n",
    "        if problem.is_goal(node.state):\n",
    "            return node\n",
    "        elif len(node) >= limit:\n",
    "            result = cutoff\n",
    "        elif not is_cycle(node):\n",
    "            for child in expand(problem, node):\n",
    "                frontier.append(child)\n",
    "    return result\n",
    "\n"
   ]
  },
  {
   "cell_type": "code",
   "execution_count": 8,
   "metadata": {},
   "outputs": [
    {
     "data": {
      "text/plain": [
       "['a', 'b', 'e', 'm']"
      ]
     },
     "execution_count": 8,
     "metadata": {},
     "output_type": "execute_result"
    }
   ],
   "source": [
    "path_states(depth_limited_search(r5, limit=3))"
   ]
  },
  {
   "cell_type": "code",
   "execution_count": 9,
   "metadata": {},
   "outputs": [
    {
     "data": {
      "text/plain": [
       "[]"
      ]
     },
     "execution_count": 9,
     "metadata": {},
     "output_type": "execute_result"
    }
   ],
   "source": [
    "path_states(depth_limited_search(r6, limit=3))"
   ]
  },
  {
   "cell_type": "code",
   "execution_count": 10,
   "metadata": {},
   "outputs": [
    {
     "data": {
      "text/plain": [
       "['a', 'b', 'e', 'm']"
      ]
     },
     "execution_count": 10,
     "metadata": {},
     "output_type": "execute_result"
    }
   ],
   "source": [
    "path_states(iterative_deepening_search(r5))"
   ]
  },
  {
   "cell_type": "code",
   "execution_count": 11,
   "metadata": {},
   "outputs": [
    {
     "data": {
      "text/plain": [
       "['a', 'b', 'e', 'l', 'r', 'u']"
      ]
     },
     "execution_count": 11,
     "metadata": {},
     "output_type": "execute_result"
    }
   ],
   "source": [
    "path_states(iterative_deepening_search(r6))"
   ]
  },
  {
   "cell_type": "markdown",
   "metadata": {},
   "source": [
    "### Grid problem"
   ]
  },
  {
   "cell_type": "markdown",
   "metadata": {},
   "source": [
    "Now, try Breadth-first search (`breadth_first_bfs`), DFS (`depth_first_bfs`), Depth-Limited with a default value of the limit, and Iterative Deepening on `d1` grid problem from `search4e.ipynb`.\n",
    "\n",
    "You can use `path_states()` function for the grid problem too.\n",
    "\n",
    "> **Note:** If any runs of the algorithms for this section (grid problem) generates error or takes more than 15 minutes on your machine, you may stop the kernel, leave a comment in your code indicating what happened, and move on. This is ONLY for this section (grid problem) of Part I. All other cells should have correct outputs with NO error."
   ]
  },
  {
   "cell_type": "code",
   "execution_count": 12,
   "metadata": {},
   "outputs": [],
   "source": [
    "# Import Cells\n",
    "\n",
    "class GridProblem(Problem):\n",
    "    \"\"\"Finding a path on a 2D grid with obstacles. Obstacles are (x, y) cells.\"\"\"\n",
    "\n",
    "    def __init__(self, initial=(15, 30), goal=(130, 30), obstacles=(), **kwds):\n",
    "        Problem.__init__(self, initial=initial, goal=goal, \n",
    "                         obstacles=set(obstacles) - {initial, goal}, **kwds)\n",
    "\n",
    "    directions = [(-1, -1), (0, -1), (1, -1),\n",
    "                  (-1, 0),           (1,  0),\n",
    "                  (-1, +1), (0, +1), (1, +1)]\n",
    "    \n",
    "    def action_cost(self, s, action, s1): return straight_line_distance(s, s1)\n",
    "    \n",
    "    def h(self, node): return straight_line_distance(node.state, self.goal)\n",
    "                  \n",
    "    def result(self, state, action): \n",
    "        \"Both states and actions are represented by (x, y) pairs.\"\n",
    "        return action if action not in self.obstacles else state\n",
    "    \n",
    "    def actions(self, state):\n",
    "        \"\"\"You can move one cell in any of `directions` to a non-obstacle cell.\"\"\"\n",
    "        x, y = state\n",
    "        return {(x + dx, y + dy) for (dx, dy) in self.directions} - self.obstacles\n",
    "    \n",
    "class ErraticVacuum(Problem):\n",
    "    def actions(self, state): \n",
    "        return ['suck', 'forward', 'backward']\n",
    "    \n",
    "    def results(self, state, action): return self.table[action][state]\n",
    "    \n",
    "    table = dict(suck=    {1:{5,7}, 2:{4,8}, 3:{7}, 4:{2,4}, 5:{1,5}, 6:{8}, 7:{3,7}, 8:{6,8}},\n",
    "                 forward= {1:{2}, 2:{2}, 3:{4}, 4:{4}, 5:{6}, 6:{6}, 7:{8}, 8:{8}},\n",
    "                 backward={1:{1}, 2:{1}, 3:{3}, 4:{3}, 5:{5}, 6:{5}, 7:{7}, 8:{7}})\n",
    "\n",
    "def random_lines(X=range(15, 130), Y=range(60), N=150, lengths=range(6, 12)):\n",
    "    \"\"\"The set of cells in N random lines of the given lengths.\"\"\"\n",
    "    result = set()\n",
    "    for _ in range(N):\n",
    "        x, y = random.choice(X), random.choice(Y)\n",
    "        dx, dy = random.choice(((0, 1), (1, 0)))\n",
    "        result |= line(x, y, dx, dy, random.choice(lengths))\n",
    "    return result\n",
    "\n",
    "def line(x, y, dx, dy, length):\n",
    "    \"\"\"A line of `length` cells starting at (x, y) and going in (dx, dy) direction.\"\"\"\n",
    "    return {(x + i * dx, y + i * dy) for i in range(length)}\n",
    "\n",
    "random.seed(42) # To make this reproducible\n",
    "\n",
    "frame = line(-10, 20, 0, 1, 20) | line(150, 20, 0, 1, 20)\n",
    "cup = line(102, 44, -1, 0, 15) | line(102, 20, -1, 0, 20) | line(102, 44, 0, -1, 24)\n",
    "\n",
    "d1 = GridProblem(obstacles=random_lines(N=100) | frame)"
   ]
  },
  {
   "cell_type": "code",
   "execution_count": 13,
   "metadata": {},
   "outputs": [
    {
     "data": {
      "text/plain": [
       "[(15, 30),\n",
       " (16, 30),\n",
       " (17, 30),\n",
       " (18, 30),\n",
       " (19, 31),\n",
       " (20, 32),\n",
       " (21, 33),\n",
       " (22, 33),\n",
       " (23, 34),\n",
       " (24, 35),\n",
       " (25, 36),\n",
       " (26, 36),\n",
       " (27, 36),\n",
       " (28, 36),\n",
       " (29, 36),\n",
       " (30, 36),\n",
       " (31, 36),\n",
       " (32, 37),\n",
       " (33, 38),\n",
       " (34, 39),\n",
       " (35, 40),\n",
       " (36, 40),\n",
       " (37, 40),\n",
       " (38, 40),\n",
       " (39, 40),\n",
       " (40, 40),\n",
       " (41, 40),\n",
       " (42, 40),\n",
       " (43, 40),\n",
       " (44, 40),\n",
       " (45, 40),\n",
       " (46, 40),\n",
       " (47, 40),\n",
       " (48, 40),\n",
       " (49, 40),\n",
       " (50, 40),\n",
       " (51, 40),\n",
       " (52, 40),\n",
       " (53, 40),\n",
       " (54, 40),\n",
       " (55, 40),\n",
       " (56, 40),\n",
       " (57, 40),\n",
       " (58, 40),\n",
       " (59, 40),\n",
       " (60, 40),\n",
       " (61, 40),\n",
       " (62, 40),\n",
       " (63, 40),\n",
       " (64, 40),\n",
       " (65, 40),\n",
       " (66, 40),\n",
       " (67, 39),\n",
       " (68, 38),\n",
       " (69, 37),\n",
       " (70, 36),\n",
       " (71, 35),\n",
       " (72, 34),\n",
       " (73, 33),\n",
       " (74, 32),\n",
       " (75, 32),\n",
       " (76, 31),\n",
       " (77, 31),\n",
       " (78, 30),\n",
       " (79, 29),\n",
       " (80, 28),\n",
       " (81, 27),\n",
       " (82, 27),\n",
       " (83, 27),\n",
       " (84, 27),\n",
       " (85, 27),\n",
       " (86, 27),\n",
       " (87, 27),\n",
       " (88, 27),\n",
       " (89, 28),\n",
       " (90, 28),\n",
       " (91, 28),\n",
       " (92, 28),\n",
       " (93, 28),\n",
       " (94, 28),\n",
       " (95, 28),\n",
       " (96, 28),\n",
       " (97, 28),\n",
       " (98, 28),\n",
       " (99, 28),\n",
       " (100, 28),\n",
       " (101, 28),\n",
       " (102, 28),\n",
       " (103, 28),\n",
       " (104, 28),\n",
       " (105, 28),\n",
       " (106, 28),\n",
       " (107, 28),\n",
       " (108, 28),\n",
       " (109, 28),\n",
       " (110, 28),\n",
       " (111, 28),\n",
       " (112, 28),\n",
       " (113, 28),\n",
       " (114, 28),\n",
       " (115, 28),\n",
       " (116, 28),\n",
       " (117, 28),\n",
       " (118, 28),\n",
       " (119, 28),\n",
       " (120, 28),\n",
       " (121, 28),\n",
       " (122, 29),\n",
       " (123, 30),\n",
       " (124, 31),\n",
       " (125, 32),\n",
       " (126, 32),\n",
       " (127, 32),\n",
       " (128, 32),\n",
       " (129, 31),\n",
       " (130, 30)]"
      ]
     },
     "execution_count": 13,
     "metadata": {},
     "output_type": "execute_result"
    }
   ],
   "source": [
    "path_states(breadth_first_bfs(d1))"
   ]
  },
  {
   "cell_type": "code",
   "execution_count": 14,
   "metadata": {},
   "outputs": [
    {
     "ename": "RecursionError",
     "evalue": "maximum recursion depth exceeded",
     "output_type": "error",
     "traceback": [
      "\u001b[0;31m---------------------------------------------------------------------------\u001b[0m",
      "\u001b[0;31mRecursionError\u001b[0m                            Traceback (most recent call last)",
      "Input \u001b[0;32mIn [14]\u001b[0m, in \u001b[0;36m<module>\u001b[0;34m\u001b[0m\n\u001b[0;32m----> 1\u001b[0m path_states(\u001b[43mdepth_first_bfs\u001b[49m\u001b[43m(\u001b[49m\u001b[43md1\u001b[49m\u001b[43m)\u001b[49m)\n",
      "Input \u001b[0;32mIn [1]\u001b[0m, in \u001b[0;36mdepth_first_bfs\u001b[0;34m(problem)\u001b[0m\n\u001b[1;32m    140\u001b[0m \u001b[38;5;28;01mdef\u001b[39;00m \u001b[38;5;21mdepth_first_bfs\u001b[39m(problem):\n\u001b[1;32m    141\u001b[0m     \u001b[38;5;124m\"\u001b[39m\u001b[38;5;124mSearch deepest nodes in the search tree first; using best-first.\u001b[39m\u001b[38;5;124m\"\u001b[39m\n\u001b[0;32m--> 142\u001b[0m     \u001b[38;5;28;01mreturn\u001b[39;00m \u001b[43mbest_first_search\u001b[49m\u001b[43m(\u001b[49m\u001b[43mproblem\u001b[49m\u001b[43m,\u001b[49m\u001b[43m \u001b[49m\u001b[43mf\u001b[49m\u001b[38;5;241;43m=\u001b[39;49m\u001b[38;5;28;43;01mlambda\u001b[39;49;00m\u001b[43m \u001b[49m\u001b[43mn\u001b[49m\u001b[43m:\u001b[49m\u001b[43m \u001b[49m\u001b[38;5;241;43m-\u001b[39;49m\u001b[38;5;28;43mlen\u001b[39;49m\u001b[43m(\u001b[49m\u001b[43mn\u001b[49m\u001b[43m)\u001b[49m\u001b[43m)\u001b[49m\n",
      "Input \u001b[0;32mIn [1]\u001b[0m, in \u001b[0;36mbest_first_search\u001b[0;34m(problem, f)\u001b[0m\n\u001b[1;32m    113\u001b[0m         \u001b[38;5;28;01mif\u001b[39;00m s \u001b[38;5;129;01mnot\u001b[39;00m \u001b[38;5;129;01min\u001b[39;00m reached \u001b[38;5;129;01mor\u001b[39;00m child\u001b[38;5;241m.\u001b[39mpath_cost \u001b[38;5;241m<\u001b[39m reached[s]\u001b[38;5;241m.\u001b[39mpath_cost:\n\u001b[1;32m    114\u001b[0m             reached[s] \u001b[38;5;241m=\u001b[39m child\n\u001b[0;32m--> 115\u001b[0m             \u001b[43mfrontier\u001b[49m\u001b[38;5;241;43m.\u001b[39;49m\u001b[43madd\u001b[49m\u001b[43m(\u001b[49m\u001b[43mchild\u001b[49m\u001b[43m)\u001b[49m\n\u001b[1;32m    116\u001b[0m \u001b[38;5;28;01mreturn\u001b[39;00m failure\n",
      "Input \u001b[0;32mIn [1]\u001b[0m, in \u001b[0;36mPriorityQueue.add\u001b[0;34m(self, item)\u001b[0m\n\u001b[1;32m     87\u001b[0m \u001b[38;5;28;01mdef\u001b[39;00m \u001b[38;5;21madd\u001b[39m(\u001b[38;5;28mself\u001b[39m, item):\n\u001b[1;32m     88\u001b[0m     \u001b[38;5;124;03m\"\"\"Add item to the queuez.\"\"\"\u001b[39;00m\n\u001b[0;32m---> 89\u001b[0m     pair \u001b[38;5;241m=\u001b[39m (\u001b[38;5;28;43mself\u001b[39;49m\u001b[38;5;241;43m.\u001b[39;49m\u001b[43mkey\u001b[49m\u001b[43m(\u001b[49m\u001b[43mitem\u001b[49m\u001b[43m)\u001b[49m, item)\n\u001b[1;32m     90\u001b[0m     heapq\u001b[38;5;241m.\u001b[39mheappush(\u001b[38;5;28mself\u001b[39m\u001b[38;5;241m.\u001b[39mitems, pair)\n",
      "Input \u001b[0;32mIn [1]\u001b[0m, in \u001b[0;36mdepth_first_bfs.<locals>.<lambda>\u001b[0;34m(n)\u001b[0m\n\u001b[1;32m    140\u001b[0m \u001b[38;5;28;01mdef\u001b[39;00m \u001b[38;5;21mdepth_first_bfs\u001b[39m(problem):\n\u001b[1;32m    141\u001b[0m     \u001b[38;5;124m\"\u001b[39m\u001b[38;5;124mSearch deepest nodes in the search tree first; using best-first.\u001b[39m\u001b[38;5;124m\"\u001b[39m\n\u001b[0;32m--> 142\u001b[0m     \u001b[38;5;28;01mreturn\u001b[39;00m best_first_search(problem, f\u001b[38;5;241m=\u001b[39m\u001b[38;5;28;01mlambda\u001b[39;00m n: \u001b[38;5;241m-\u001b[39m\u001b[38;5;28;43mlen\u001b[39;49m\u001b[43m(\u001b[49m\u001b[43mn\u001b[49m\u001b[43m)\u001b[49m)\n",
      "Input \u001b[0;32mIn [1]\u001b[0m, in \u001b[0;36mNode.__len__\u001b[0;34m(self)\u001b[0m\n\u001b[0;32m---> 42\u001b[0m \u001b[38;5;28;01mdef\u001b[39;00m \u001b[38;5;21m__len__\u001b[39m(\u001b[38;5;28mself\u001b[39m): \u001b[38;5;28;01mreturn\u001b[39;00m \u001b[38;5;241m0\u001b[39m \u001b[38;5;28;01mif\u001b[39;00m \u001b[38;5;28mself\u001b[39m\u001b[38;5;241m.\u001b[39mparent \u001b[38;5;129;01mis\u001b[39;00m \u001b[38;5;28;01mNone\u001b[39;00m \u001b[38;5;28;01melse\u001b[39;00m (\u001b[38;5;241m1\u001b[39m \u001b[38;5;241m+\u001b[39m \u001b[38;5;28;43mlen\u001b[39;49m\u001b[43m(\u001b[49m\u001b[38;5;28;43mself\u001b[39;49m\u001b[38;5;241;43m.\u001b[39;49m\u001b[43mparent\u001b[49m\u001b[43m)\u001b[49m)\n",
      "Input \u001b[0;32mIn [1]\u001b[0m, in \u001b[0;36mNode.__len__\u001b[0;34m(self)\u001b[0m\n\u001b[0;32m---> 42\u001b[0m \u001b[38;5;28;01mdef\u001b[39;00m \u001b[38;5;21m__len__\u001b[39m(\u001b[38;5;28mself\u001b[39m): \u001b[38;5;28;01mreturn\u001b[39;00m \u001b[38;5;241m0\u001b[39m \u001b[38;5;28;01mif\u001b[39;00m \u001b[38;5;28mself\u001b[39m\u001b[38;5;241m.\u001b[39mparent \u001b[38;5;129;01mis\u001b[39;00m \u001b[38;5;28;01mNone\u001b[39;00m \u001b[38;5;28;01melse\u001b[39;00m (\u001b[38;5;241m1\u001b[39m \u001b[38;5;241m+\u001b[39m \u001b[38;5;28;43mlen\u001b[39;49m\u001b[43m(\u001b[49m\u001b[38;5;28;43mself\u001b[39;49m\u001b[38;5;241;43m.\u001b[39;49m\u001b[43mparent\u001b[49m\u001b[43m)\u001b[49m)\n",
      "    \u001b[0;31m[... skipping similar frames: Node.__len__ at line 42 (1481 times)]\u001b[0m\n",
      "Input \u001b[0;32mIn [1]\u001b[0m, in \u001b[0;36mNode.__len__\u001b[0;34m(self)\u001b[0m\n\u001b[0;32m---> 42\u001b[0m \u001b[38;5;28;01mdef\u001b[39;00m \u001b[38;5;21m__len__\u001b[39m(\u001b[38;5;28mself\u001b[39m): \u001b[38;5;28;01mreturn\u001b[39;00m \u001b[38;5;241m0\u001b[39m \u001b[38;5;28;01mif\u001b[39;00m \u001b[38;5;28mself\u001b[39m\u001b[38;5;241m.\u001b[39mparent \u001b[38;5;129;01mis\u001b[39;00m \u001b[38;5;28;01mNone\u001b[39;00m \u001b[38;5;28;01melse\u001b[39;00m (\u001b[38;5;241m1\u001b[39m \u001b[38;5;241m+\u001b[39m \u001b[38;5;28;43mlen\u001b[39;49m\u001b[43m(\u001b[49m\u001b[38;5;28;43mself\u001b[39;49m\u001b[38;5;241;43m.\u001b[39;49m\u001b[43mparent\u001b[49m\u001b[43m)\u001b[49m)\n",
      "\u001b[0;31mRecursionError\u001b[0m: maximum recursion depth exceeded"
     ]
    }
   ],
   "source": [
    "path_states(depth_first_bfs(d1))\n",
    "# Code failed due to the maximum recursion depth being exceeded"
   ]
  },
  {
   "cell_type": "code",
   "execution_count": 16,
   "metadata": {},
   "outputs": [
    {
     "ename": "KeyboardInterrupt",
     "evalue": "",
     "output_type": "error",
     "traceback": [
      "\u001b[0;31m---------------------------------------------------------------------------\u001b[0m",
      "\u001b[0;31mKeyboardInterrupt\u001b[0m                         Traceback (most recent call last)",
      "Input \u001b[0;32mIn [16]\u001b[0m, in \u001b[0;36m<module>\u001b[0;34m\u001b[0m\n\u001b[0;32m----> 1\u001b[0m path_states(\u001b[43mdepth_limited_search\u001b[49m\u001b[43m(\u001b[49m\u001b[43md1\u001b[49m\u001b[43m)\u001b[49m)\n",
      "Input \u001b[0;32mIn [7]\u001b[0m, in \u001b[0;36mdepth_limited_search\u001b[0;34m(problem, limit)\u001b[0m\n\u001b[1;32m     19\u001b[0m     \u001b[38;5;28;01mreturn\u001b[39;00m node\n\u001b[1;32m     20\u001b[0m \u001b[38;5;28;01melif\u001b[39;00m \u001b[38;5;28mlen\u001b[39m(node) \u001b[38;5;241m>\u001b[39m\u001b[38;5;241m=\u001b[39m limit:\n\u001b[0;32m---> 21\u001b[0m     result \u001b[38;5;241m=\u001b[39m cutoff\n\u001b[1;32m     22\u001b[0m \u001b[38;5;28;01melif\u001b[39;00m \u001b[38;5;129;01mnot\u001b[39;00m is_cycle(node):\n\u001b[1;32m     23\u001b[0m     \u001b[38;5;28;01mfor\u001b[39;00m child \u001b[38;5;129;01min\u001b[39;00m expand(problem, node):\n",
      "\u001b[0;31mKeyboardInterrupt\u001b[0m: "
     ]
    }
   ],
   "source": [
    "path_states(depth_limited_search(d1))\n",
    "\n",
    "# Took too long to execute"
   ]
  },
  {
   "cell_type": "code",
   "execution_count": 17,
   "metadata": {},
   "outputs": [
    {
     "ename": "KeyboardInterrupt",
     "evalue": "",
     "output_type": "error",
     "traceback": [
      "\u001b[0;31m---------------------------------------------------------------------------\u001b[0m",
      "\u001b[0;31mKeyboardInterrupt\u001b[0m                         Traceback (most recent call last)",
      "Input \u001b[0;32mIn [17]\u001b[0m, in \u001b[0;36m<module>\u001b[0;34m\u001b[0m\n\u001b[0;32m----> 1\u001b[0m path_states(\u001b[43miterative_deepening_search\u001b[49m\u001b[43m(\u001b[49m\u001b[43md1\u001b[49m\u001b[43m)\u001b[49m)\n",
      "Input \u001b[0;32mIn [7]\u001b[0m, in \u001b[0;36miterative_deepening_search\u001b[0;34m(problem)\u001b[0m\n\u001b[1;32m      5\u001b[0m \u001b[38;5;124m\"\u001b[39m\u001b[38;5;124mDo depth-limited search with increasing depth limits.\u001b[39m\u001b[38;5;124m\"\u001b[39m\n\u001b[1;32m      6\u001b[0m \u001b[38;5;28;01mfor\u001b[39;00m limit \u001b[38;5;129;01min\u001b[39;00m \u001b[38;5;28mrange\u001b[39m(\u001b[38;5;241m1\u001b[39m, sys\u001b[38;5;241m.\u001b[39mmaxsize):\n\u001b[0;32m----> 7\u001b[0m     result \u001b[38;5;241m=\u001b[39m \u001b[43mdepth_limited_search\u001b[49m\u001b[43m(\u001b[49m\u001b[43mproblem\u001b[49m\u001b[43m,\u001b[49m\u001b[43m \u001b[49m\u001b[43mlimit\u001b[49m\u001b[43m)\u001b[49m\n\u001b[1;32m      8\u001b[0m     \u001b[38;5;28;01mif\u001b[39;00m result \u001b[38;5;241m!=\u001b[39m cutoff:\n\u001b[1;32m      9\u001b[0m         \u001b[38;5;28;01mreturn\u001b[39;00m result\n",
      "Input \u001b[0;32mIn [7]\u001b[0m, in \u001b[0;36mdepth_limited_search\u001b[0;34m(problem, limit)\u001b[0m\n\u001b[1;32m     21\u001b[0m         result \u001b[38;5;241m=\u001b[39m cutoff\n\u001b[1;32m     22\u001b[0m     \u001b[38;5;28;01melif\u001b[39;00m \u001b[38;5;129;01mnot\u001b[39;00m is_cycle(node):\n\u001b[0;32m---> 23\u001b[0m         \u001b[38;5;28;01mfor\u001b[39;00m child \u001b[38;5;129;01min\u001b[39;00m expand(problem, node):\n\u001b[1;32m     24\u001b[0m             frontier\u001b[38;5;241m.\u001b[39mappend(child)\n\u001b[1;32m     25\u001b[0m \u001b[38;5;28;01mreturn\u001b[39;00m result\n",
      "Input \u001b[0;32mIn [1]\u001b[0m, in \u001b[0;36mexpand\u001b[0;34m(problem, node)\u001b[0m\n\u001b[1;32m     54\u001b[0m s1 \u001b[38;5;241m=\u001b[39m problem\u001b[38;5;241m.\u001b[39mresult(s, action)\n\u001b[1;32m     55\u001b[0m cost \u001b[38;5;241m=\u001b[39m node\u001b[38;5;241m.\u001b[39mpath_cost \u001b[38;5;241m+\u001b[39m problem\u001b[38;5;241m.\u001b[39maction_cost(s, action, s1)\n\u001b[0;32m---> 56\u001b[0m \u001b[38;5;28;01myield\u001b[39;00m \u001b[43mNode\u001b[49m\u001b[43m(\u001b[49m\u001b[43ms1\u001b[49m\u001b[43m,\u001b[49m\u001b[43m \u001b[49m\u001b[43mnode\u001b[49m\u001b[43m,\u001b[49m\u001b[43m \u001b[49m\u001b[43maction\u001b[49m\u001b[43m,\u001b[49m\u001b[43m \u001b[49m\u001b[43mcost\u001b[49m\u001b[43m)\u001b[49m\n",
      "Input \u001b[0;32mIn [1]\u001b[0m, in \u001b[0;36mNode.__init__\u001b[0;34m(self, state, parent, action, path_cost)\u001b[0m\n\u001b[1;32m     36\u001b[0m \u001b[38;5;28;01mclass\u001b[39;00m \u001b[38;5;21;01mNode\u001b[39;00m:\n\u001b[1;32m     37\u001b[0m     \u001b[38;5;124m\"\u001b[39m\u001b[38;5;124mA Node in a search tree.\u001b[39m\u001b[38;5;124m\"\u001b[39m\n\u001b[0;32m---> 38\u001b[0m     \u001b[38;5;28;01mdef\u001b[39;00m \u001b[38;5;21m__init__\u001b[39m(\u001b[38;5;28mself\u001b[39m, state, parent\u001b[38;5;241m=\u001b[39m\u001b[38;5;28;01mNone\u001b[39;00m, action\u001b[38;5;241m=\u001b[39m\u001b[38;5;28;01mNone\u001b[39;00m, path_cost\u001b[38;5;241m=\u001b[39m\u001b[38;5;241m0\u001b[39m):\n\u001b[1;32m     39\u001b[0m         \u001b[38;5;28mself\u001b[39m\u001b[38;5;241m.\u001b[39m\u001b[38;5;18m__dict__\u001b[39m\u001b[38;5;241m.\u001b[39mupdate(state\u001b[38;5;241m=\u001b[39mstate, parent\u001b[38;5;241m=\u001b[39mparent, action\u001b[38;5;241m=\u001b[39maction, path_cost\u001b[38;5;241m=\u001b[39mpath_cost)\n\u001b[1;32m     41\u001b[0m     \u001b[38;5;28;01mdef\u001b[39;00m \u001b[38;5;21m__repr__\u001b[39m(\u001b[38;5;28mself\u001b[39m): \u001b[38;5;28;01mreturn\u001b[39;00m \u001b[38;5;124m'\u001b[39m\u001b[38;5;124m<\u001b[39m\u001b[38;5;132;01m{}\u001b[39;00m\u001b[38;5;124m>\u001b[39m\u001b[38;5;124m'\u001b[39m\u001b[38;5;241m.\u001b[39mformat(\u001b[38;5;28mself\u001b[39m\u001b[38;5;241m.\u001b[39mstate)\n",
      "\u001b[0;31mKeyboardInterrupt\u001b[0m: "
     ]
    }
   ],
   "source": [
    "path_states(iterative_deepening_search(d1))\n",
    "\n",
    "# Took too long to execute"
   ]
  },
  {
   "cell_type": "markdown",
   "metadata": {},
   "source": [
    ">Next, define a new grid problem named `d8` from `(4,4)` to `(8,3)` with no obstacles, and with the default directions, and run all the aforementioned algorithms BFS, DFS (`depth_first_recursive_search`), depth-limited with default limit and iterative-deepening on it."
   ]
  },
  {
   "cell_type": "code",
   "execution_count": 18,
   "metadata": {},
   "outputs": [],
   "source": [
    "d8 = GridProblem((4,4), (8,3))"
   ]
  },
  {
   "cell_type": "code",
   "execution_count": 19,
   "metadata": {},
   "outputs": [
    {
     "data": {
      "text/plain": [
       "[(4, 4), (5, 4), (6, 4), (7, 4), (8, 3)]"
      ]
     },
     "execution_count": 19,
     "metadata": {},
     "output_type": "execute_result"
    }
   ],
   "source": [
    "path_states(breadth_first_bfs(d8))"
   ]
  },
  {
   "cell_type": "code",
   "execution_count": 20,
   "metadata": {},
   "outputs": [],
   "source": [
    "# Import Cells\n",
    "\n",
    "def depth_first_recursive_search(problem, node=None):\n",
    "    if node is None: \n",
    "        node = Node(problem.initial)\n",
    "    if problem.is_goal(node.state):\n",
    "        return node\n",
    "    elif is_cycle(node):\n",
    "        return failure\n",
    "    else:\n",
    "        for child in expand(problem, node):\n",
    "            result = depth_first_recursive_search(problem, child)\n",
    "            if result:\n",
    "                return result\n",
    "        return failure"
   ]
  },
  {
   "cell_type": "code",
   "execution_count": 22,
   "metadata": {},
   "outputs": [
    {
     "ename": "RecursionError",
     "evalue": "maximum recursion depth exceeded in comparison",
     "output_type": "error",
     "traceback": [
      "\u001b[0;31m---------------------------------------------------------------------------\u001b[0m",
      "\u001b[0;31mRecursionError\u001b[0m                            Traceback (most recent call last)",
      "Input \u001b[0;32mIn [22]\u001b[0m, in \u001b[0;36m<module>\u001b[0;34m\u001b[0m\n\u001b[0;32m----> 1\u001b[0m path_states(\u001b[43mdepth_first_recursive_search\u001b[49m\u001b[43m(\u001b[49m\u001b[43md8\u001b[49m\u001b[43m)\u001b[49m)\n",
      "Input \u001b[0;32mIn [20]\u001b[0m, in \u001b[0;36mdepth_first_recursive_search\u001b[0;34m(problem, node)\u001b[0m\n\u001b[1;32m     10\u001b[0m \u001b[38;5;28;01melse\u001b[39;00m:\n\u001b[1;32m     11\u001b[0m     \u001b[38;5;28;01mfor\u001b[39;00m child \u001b[38;5;129;01min\u001b[39;00m expand(problem, node):\n\u001b[0;32m---> 12\u001b[0m         result \u001b[38;5;241m=\u001b[39m \u001b[43mdepth_first_recursive_search\u001b[49m\u001b[43m(\u001b[49m\u001b[43mproblem\u001b[49m\u001b[43m,\u001b[49m\u001b[43m \u001b[49m\u001b[43mchild\u001b[49m\u001b[43m)\u001b[49m\n\u001b[1;32m     13\u001b[0m         \u001b[38;5;28;01mif\u001b[39;00m result:\n\u001b[1;32m     14\u001b[0m             \u001b[38;5;28;01mreturn\u001b[39;00m result\n",
      "Input \u001b[0;32mIn [20]\u001b[0m, in \u001b[0;36mdepth_first_recursive_search\u001b[0;34m(problem, node)\u001b[0m\n\u001b[1;32m     10\u001b[0m \u001b[38;5;28;01melse\u001b[39;00m:\n\u001b[1;32m     11\u001b[0m     \u001b[38;5;28;01mfor\u001b[39;00m child \u001b[38;5;129;01min\u001b[39;00m expand(problem, node):\n\u001b[0;32m---> 12\u001b[0m         result \u001b[38;5;241m=\u001b[39m \u001b[43mdepth_first_recursive_search\u001b[49m\u001b[43m(\u001b[49m\u001b[43mproblem\u001b[49m\u001b[43m,\u001b[49m\u001b[43m \u001b[49m\u001b[43mchild\u001b[49m\u001b[43m)\u001b[49m\n\u001b[1;32m     13\u001b[0m         \u001b[38;5;28;01mif\u001b[39;00m result:\n\u001b[1;32m     14\u001b[0m             \u001b[38;5;28;01mreturn\u001b[39;00m result\n",
      "    \u001b[0;31m[... skipping similar frames: depth_first_recursive_search at line 12 (2937 times)]\u001b[0m\n",
      "Input \u001b[0;32mIn [20]\u001b[0m, in \u001b[0;36mdepth_first_recursive_search\u001b[0;34m(problem, node)\u001b[0m\n\u001b[1;32m     10\u001b[0m \u001b[38;5;28;01melse\u001b[39;00m:\n\u001b[1;32m     11\u001b[0m     \u001b[38;5;28;01mfor\u001b[39;00m child \u001b[38;5;129;01min\u001b[39;00m expand(problem, node):\n\u001b[0;32m---> 12\u001b[0m         result \u001b[38;5;241m=\u001b[39m \u001b[43mdepth_first_recursive_search\u001b[49m\u001b[43m(\u001b[49m\u001b[43mproblem\u001b[49m\u001b[43m,\u001b[49m\u001b[43m \u001b[49m\u001b[43mchild\u001b[49m\u001b[43m)\u001b[49m\n\u001b[1;32m     13\u001b[0m         \u001b[38;5;28;01mif\u001b[39;00m result:\n\u001b[1;32m     14\u001b[0m             \u001b[38;5;28;01mreturn\u001b[39;00m result\n",
      "Input \u001b[0;32mIn [20]\u001b[0m, in \u001b[0;36mdepth_first_recursive_search\u001b[0;34m(problem, node)\u001b[0m\n\u001b[1;32m      6\u001b[0m \u001b[38;5;28;01mif\u001b[39;00m problem\u001b[38;5;241m.\u001b[39mis_goal(node\u001b[38;5;241m.\u001b[39mstate):\n\u001b[1;32m      7\u001b[0m     \u001b[38;5;28;01mreturn\u001b[39;00m node\n\u001b[0;32m----> 8\u001b[0m \u001b[38;5;28;01melif\u001b[39;00m \u001b[43mis_cycle\u001b[49m\u001b[43m(\u001b[49m\u001b[43mnode\u001b[49m\u001b[43m)\u001b[49m:\n\u001b[1;32m      9\u001b[0m     \u001b[38;5;28;01mreturn\u001b[39;00m failure\n\u001b[1;32m     10\u001b[0m \u001b[38;5;28;01melse\u001b[39;00m:\n",
      "Input \u001b[0;32mIn [1]\u001b[0m, in \u001b[0;36mis_cycle\u001b[0;34m(node, k)\u001b[0m\n\u001b[1;32m    147\u001b[0m \u001b[38;5;28;01mdef\u001b[39;00m \u001b[38;5;21mfind_cycle\u001b[39m(ancestor, k):\n\u001b[1;32m    148\u001b[0m     \u001b[38;5;28;01mreturn\u001b[39;00m (ancestor \u001b[38;5;129;01mis\u001b[39;00m \u001b[38;5;129;01mnot\u001b[39;00m \u001b[38;5;28;01mNone\u001b[39;00m \u001b[38;5;129;01mand\u001b[39;00m k \u001b[38;5;241m>\u001b[39m \u001b[38;5;241m0\u001b[39m \u001b[38;5;129;01mand\u001b[39;00m\n\u001b[1;32m    149\u001b[0m             (ancestor\u001b[38;5;241m.\u001b[39mstate \u001b[38;5;241m==\u001b[39m node\u001b[38;5;241m.\u001b[39mstate \u001b[38;5;129;01mor\u001b[39;00m find_cycle(ancestor\u001b[38;5;241m.\u001b[39mparent, k \u001b[38;5;241m-\u001b[39m \u001b[38;5;241m1\u001b[39m)))\n\u001b[0;32m--> 150\u001b[0m \u001b[38;5;28;01mreturn\u001b[39;00m \u001b[43mfind_cycle\u001b[49m\u001b[43m(\u001b[49m\u001b[43mnode\u001b[49m\u001b[38;5;241;43m.\u001b[39;49m\u001b[43mparent\u001b[49m\u001b[43m,\u001b[49m\u001b[43m \u001b[49m\u001b[43mk\u001b[49m\u001b[43m)\u001b[49m\n",
      "Input \u001b[0;32mIn [1]\u001b[0m, in \u001b[0;36mis_cycle.<locals>.find_cycle\u001b[0;34m(ancestor, k)\u001b[0m\n\u001b[1;32m    147\u001b[0m \u001b[38;5;28;01mdef\u001b[39;00m \u001b[38;5;21mfind_cycle\u001b[39m(ancestor, k):\n\u001b[1;32m    148\u001b[0m     \u001b[38;5;28;01mreturn\u001b[39;00m (ancestor \u001b[38;5;129;01mis\u001b[39;00m \u001b[38;5;129;01mnot\u001b[39;00m \u001b[38;5;28;01mNone\u001b[39;00m \u001b[38;5;129;01mand\u001b[39;00m k \u001b[38;5;241m>\u001b[39m \u001b[38;5;241m0\u001b[39m \u001b[38;5;129;01mand\u001b[39;00m\n\u001b[0;32m--> 149\u001b[0m             (ancestor\u001b[38;5;241m.\u001b[39mstate \u001b[38;5;241m==\u001b[39m node\u001b[38;5;241m.\u001b[39mstate \u001b[38;5;129;01mor\u001b[39;00m \u001b[43mfind_cycle\u001b[49m\u001b[43m(\u001b[49m\u001b[43mancestor\u001b[49m\u001b[38;5;241;43m.\u001b[39;49m\u001b[43mparent\u001b[49m\u001b[43m,\u001b[49m\u001b[43m \u001b[49m\u001b[43mk\u001b[49m\u001b[43m \u001b[49m\u001b[38;5;241;43m-\u001b[39;49m\u001b[43m \u001b[49m\u001b[38;5;241;43m1\u001b[39;49m\u001b[43m)\u001b[49m))\n",
      "Input \u001b[0;32mIn [1]\u001b[0m, in \u001b[0;36mis_cycle.<locals>.find_cycle\u001b[0;34m(ancestor, k)\u001b[0m\n\u001b[1;32m    147\u001b[0m \u001b[38;5;28;01mdef\u001b[39;00m \u001b[38;5;21mfind_cycle\u001b[39m(ancestor, k):\n\u001b[1;32m    148\u001b[0m     \u001b[38;5;28;01mreturn\u001b[39;00m (ancestor \u001b[38;5;129;01mis\u001b[39;00m \u001b[38;5;129;01mnot\u001b[39;00m \u001b[38;5;28;01mNone\u001b[39;00m \u001b[38;5;129;01mand\u001b[39;00m k \u001b[38;5;241m>\u001b[39m \u001b[38;5;241m0\u001b[39m \u001b[38;5;129;01mand\u001b[39;00m\n\u001b[0;32m--> 149\u001b[0m             (ancestor\u001b[38;5;241m.\u001b[39mstate \u001b[38;5;241m==\u001b[39m node\u001b[38;5;241m.\u001b[39mstate \u001b[38;5;129;01mor\u001b[39;00m \u001b[43mfind_cycle\u001b[49m\u001b[43m(\u001b[49m\u001b[43mancestor\u001b[49m\u001b[38;5;241;43m.\u001b[39;49m\u001b[43mparent\u001b[49m\u001b[43m,\u001b[49m\u001b[43m \u001b[49m\u001b[43mk\u001b[49m\u001b[43m \u001b[49m\u001b[38;5;241;43m-\u001b[39;49m\u001b[43m \u001b[49m\u001b[38;5;241;43m1\u001b[39;49m\u001b[43m)\u001b[49m))\n",
      "    \u001b[0;31m[... skipping similar frames: is_cycle.<locals>.find_cycle at line 149 (27 times)]\u001b[0m\n",
      "Input \u001b[0;32mIn [1]\u001b[0m, in \u001b[0;36mis_cycle.<locals>.find_cycle\u001b[0;34m(ancestor, k)\u001b[0m\n\u001b[1;32m    147\u001b[0m \u001b[38;5;28;01mdef\u001b[39;00m \u001b[38;5;21mfind_cycle\u001b[39m(ancestor, k):\n\u001b[1;32m    148\u001b[0m     \u001b[38;5;28;01mreturn\u001b[39;00m (ancestor \u001b[38;5;129;01mis\u001b[39;00m \u001b[38;5;129;01mnot\u001b[39;00m \u001b[38;5;28;01mNone\u001b[39;00m \u001b[38;5;129;01mand\u001b[39;00m k \u001b[38;5;241m>\u001b[39m \u001b[38;5;241m0\u001b[39m \u001b[38;5;129;01mand\u001b[39;00m\n\u001b[0;32m--> 149\u001b[0m             (\u001b[43mancestor\u001b[49m\u001b[38;5;241;43m.\u001b[39;49m\u001b[43mstate\u001b[49m\u001b[43m \u001b[49m\u001b[38;5;241;43m==\u001b[39;49m\u001b[43m \u001b[49m\u001b[43mnode\u001b[49m\u001b[38;5;241;43m.\u001b[39;49m\u001b[43mstate\u001b[49m \u001b[38;5;129;01mor\u001b[39;00m find_cycle(ancestor\u001b[38;5;241m.\u001b[39mparent, k \u001b[38;5;241m-\u001b[39m \u001b[38;5;241m1\u001b[39m)))\n",
      "\u001b[0;31mRecursionError\u001b[0m: maximum recursion depth exceeded in comparison"
     ]
    }
   ],
   "source": [
    "path_states(depth_first_recursive_search(d8))\n",
    "\n",
    "# Code failed due to the maximum recursion depth being exceeded"
   ]
  },
  {
   "cell_type": "code",
   "execution_count": 23,
   "metadata": {},
   "outputs": [
    {
     "data": {
      "text/plain": [
       "[(4, 4),\n",
       " (3, 5),\n",
       " (2, 5),\n",
       " (1, 6),\n",
       " (2, 6),\n",
       " (3, 6),\n",
       " (4, 7),\n",
       " (5, 6),\n",
       " (6, 5),\n",
       " (7, 4),\n",
       " (8, 3)]"
      ]
     },
     "execution_count": 23,
     "metadata": {},
     "output_type": "execute_result"
    }
   ],
   "source": [
    "path_states(depth_limited_search(d8))"
   ]
  },
  {
   "cell_type": "code",
   "execution_count": 24,
   "metadata": {},
   "outputs": [
    {
     "data": {
      "text/plain": [
       "[(4, 4), (5, 3), (6, 3), (7, 2), (8, 3)]"
      ]
     },
     "execution_count": 24,
     "metadata": {},
     "output_type": "execute_result"
    }
   ],
   "source": [
    "path_states(iterative_deepening_search(d8))"
   ]
  },
  {
   "cell_type": "markdown",
   "metadata": {},
   "source": [
    "### Part I Questions"
   ]
  },
  {
   "cell_type": "markdown",
   "metadata": {},
   "source": [
    "- **Q1** [2 points] - What is the minimum required depth limit for the **Depth-limited search** so that it can return the desired output `['a', 'b', 'e', 'l', 'r', 'u']` for `r6`? Why?\n",
    "\n",
    "\n",
    "- **Q2** [4 points] - Which of the algorithms that you tried returned a solution path for `d1`?\n",
    "\n",
    "- **Q3** [4 points] - Which of the algorithms that you tried returned a solution path for `d8`?\n",
    "\n",
    "<font color=red>Enter your answers in the following markdown cell.</font>"
   ]
  },
  {
   "cell_type": "markdown",
   "metadata": {},
   "source": [
    "- Your answers to Part I questions go here - below the line:\n",
    "\n",
    "========================================================\n",
    "\n",
    "\n",
    "YOUR Answers:\n",
    "\n",
    "- Q1: The minimum required depth limit for the Depth-limited Search for r6 such that it can return ['a', 'b', 'e', 'l', 'r', 'u'] is 5, this is because at depth 5 only the search algorithm can reach 'u'. \n",
    "\n",
    "- Q2: path_states(breadth_first_bfs(d1)) returned a solution while the rest did not.\n",
    "\n",
    "- Q3: path_states(breadth_first_bfs(d8)), path_states(depth_limited_search(d8)), and path_states(iterative_deepening_search(d8)) returned a solution. "
   ]
  },
  {
   "cell_type": "markdown",
   "metadata": {},
   "source": [
    "## Part II - Informed Search & Heuristics"
   ]
  },
  {
   "cell_type": "markdown",
   "metadata": {},
   "source": [
    "In <b>Part II</b> of this assignment, you apply informed search algorithms on 8-puzzle problem."
   ]
  },
  {
   "cell_type": "markdown",
   "metadata": {},
   "source": [
    "Remember how I tried to [solve it online](http://www.tilepuzzles.com/default.asp?p=12) during the lecture? Now, Artificial Intelligence will help solve this puzzle! \n",
    "\n",
    "The state of the puzzle are represented as a list of integers. 0 represents the empty position. "
   ]
  },
  {
   "cell_type": "markdown",
   "metadata": {},
   "source": [
    "> The following is an example start state. The blank is represented by a 0 digit."
   ]
  },
  {
   "cell_type": "code",
   "execution_count": 25,
   "metadata": {},
   "outputs": [],
   "source": [
    "startState = (1, 0, 3, 4, 2, 5, 6, 7, 8)"
   ]
  },
  {
   "cell_type": "code",
   "execution_count": 26,
   "metadata": {},
   "outputs": [],
   "source": [
    "# Import Cells\n",
    "\n",
    "class EightPuzzle(Problem):\n",
    "    \"\"\" The problem of sliding tiles numbered from 1 to 8 on a 3x3 board,\n",
    "    where one of the squares is a blank, trying to reach a goal configuration.\n",
    "    A board state is represented as a tuple of length 9, where the element at index i\n",
    "    represents the tile number at index i, or 0 if for the empty square, e.g. the goal:\n",
    "        1 2 3\n",
    "        4 5 6 ==> (1, 2, 3, 4, 5, 6, 7, 8, 0)\n",
    "        7 8 _\n",
    "    \"\"\"\n",
    "\n",
    "    def __init__(self, initial, goal=(0, 1, 2, 3, 4, 5, 6, 7, 8)):\n",
    "        assert inversions(initial) % 2 == inversions(goal) % 2  # Parity check\n",
    "        self.initial, self.goal = initial, goal\n",
    "\n",
    "    def actions(self, state):\n",
    "        \"\"\"The indexes of the squares that the blank can move to.\"\"\"\n",
    "        moves = ((1, 3), (0, 2, 4), (1, 5),\n",
    "                 (0, 4, 6), (1, 3, 5, 7), (2, 4, 8),\n",
    "                 (3, 7), (4, 6, 8), (7, 5))\n",
    "        blank = state.index(0)\n",
    "        return moves[blank]\n",
    "\n",
    "    def result(self, state, action):\n",
    "        \"\"\"Swap the blank with the square numbered `action`.\"\"\"\n",
    "        s = list(state)\n",
    "        blank = state.index(0)\n",
    "        s[action], s[blank] = s[blank], s[action]\n",
    "        return tuple(s)\n",
    "\n",
    "    def h1(self, node):\n",
    "        \"\"\"The misplaced tiles heuristic.\"\"\"\n",
    "        return hamming_distance(node.state, self.goal)\n",
    "\n",
    "    def h2(self, node):\n",
    "        \"\"\"The Manhattan heuristic.\"\"\"\n",
    "        X = (0, 1, 2, 0, 1, 2, 0, 1, 2)\n",
    "        Y = (0, 0, 0, 1, 1, 1, 2, 2, 2)\n",
    "        return sum(abs(X[s] - X[g]) + abs(Y[s] - Y[g])\n",
    "                   for (s, g) in zip(node.state, self.goal) if s != 0)\n",
    "    \n",
    "    def h3(self, node):\n",
    "        return math.sqrt(self.h2(node))\n",
    "\n",
    "    def h4(self, node):\n",
    "        return max(self.h1(node), self.h2(node))    \n",
    "\n",
    "    def h(self, node): return self.h2(node)\n",
    "\n",
    "\n",
    "def hamming_distance(A, B):\n",
    "    \"Number of positions where vectors A and B are different.\"\n",
    "    return sum(a != b for a, b in zip(A, B))\n",
    "\n",
    "\n",
    "def inversions(board):\n",
    "    \"The number of times a piece is a smaller number than a following piece.\"\n",
    "    return sum((a > b and a != 0 and b != 0) for (a, b) in combinations(board, 2))\n",
    "\n",
    "\n",
    "def board8(board, fmt=(3 * '{} {} {}\\n')):\n",
    "    \"A string representing an 8-puzzle board\"\n",
    "    return fmt.format(*board).replace('0', '_')\n",
    "\n",
    "\n",
    "class Board(defaultdict):\n",
    "    empty = '.'\n",
    "    off = '#'\n",
    "\n",
    "    def __init__(self, board=None, width=8, height=8, to_move=None, **kwds):\n",
    "        if board is not None:\n",
    "            self.update(board)\n",
    "            self.width, self.height = (board.width, board.height)\n",
    "        else:\n",
    "            self.width, self.height = (width, height)\n",
    "        self.to_move = to_move\n",
    "\n",
    "    def __missing__(self, key):\n",
    "        x, y = key\n",
    "        if x < 0 or x >= self.width or y < 0 or y >= self.height:\n",
    "            return self.off\n",
    "        else:\n",
    "            return self.empty\n",
    "\n",
    "    def __repr__(self):\n",
    "        def row(y): return ' '.join(self[x, y] for x in range(self.width))\n",
    "\n",
    "        return '\\n'.join(row(y) for y in range(self.height))\n",
    "\n",
    "    def __hash__(self):\n",
    "        return hash(tuple(sorted(self.items()))) + hash(self.to_move)\n"
   ]
  },
  {
   "cell_type": "markdown",
   "metadata": {},
   "source": [
    "> Define a new `EightPuzzle` problem named `e6` with `initial` as `startState`."
   ]
  },
  {
   "cell_type": "code",
   "execution_count": 27,
   "metadata": {},
   "outputs": [],
   "source": [
    "e6 = EightPuzzle(startState, (7, 2, 4, 5, 6, 0, 8, 3, 1))"
   ]
  },
  {
   "cell_type": "markdown",
   "metadata": {},
   "source": [
    "> Solve `e6` using `weighted_astar_search` and show the solution path with `path_states()` function."
   ]
  },
  {
   "cell_type": "code",
   "execution_count": 28,
   "metadata": {},
   "outputs": [],
   "source": [
    "# Import Cells\n",
    "\n",
    "def weighted_astar_search(problem, h=None, weight=1.4):\n",
    "    \"\"\"Search nodes with minimum f(n) = g(n) + weight * h(n).\"\"\"\n",
    "    h = h or problem.h\n",
    "    return best_first_search(problem, f=lambda n: g(n) + weight * h(n))"
   ]
  },
  {
   "cell_type": "code",
   "execution_count": 29,
   "metadata": {},
   "outputs": [
    {
     "name": "stdout",
     "output_type": "stream",
     "text": [
      "1 _ 3\n",
      "4 2 5\n",
      "6 7 8\n",
      "\n",
      "_ 1 3\n",
      "4 2 5\n",
      "6 7 8\n",
      "\n",
      "4 1 3\n",
      "_ 2 5\n",
      "6 7 8\n",
      "\n",
      "4 1 3\n",
      "2 _ 5\n",
      "6 7 8\n",
      "\n",
      "4 1 3\n",
      "2 5 _\n",
      "6 7 8\n",
      "\n",
      "4 1 _\n",
      "2 5 3\n",
      "6 7 8\n",
      "\n",
      "4 _ 1\n",
      "2 5 3\n",
      "6 7 8\n",
      "\n",
      "_ 4 1\n",
      "2 5 3\n",
      "6 7 8\n",
      "\n",
      "2 4 1\n",
      "_ 5 3\n",
      "6 7 8\n",
      "\n",
      "2 4 1\n",
      "5 _ 3\n",
      "6 7 8\n",
      "\n",
      "2 4 1\n",
      "5 7 3\n",
      "6 _ 8\n",
      "\n",
      "2 4 1\n",
      "5 7 3\n",
      "_ 6 8\n",
      "\n",
      "2 4 1\n",
      "_ 7 3\n",
      "5 6 8\n",
      "\n",
      "2 4 1\n",
      "7 _ 3\n",
      "5 6 8\n",
      "\n",
      "2 4 1\n",
      "7 3 _\n",
      "5 6 8\n",
      "\n",
      "2 4 _\n",
      "7 3 1\n",
      "5 6 8\n",
      "\n",
      "2 _ 4\n",
      "7 3 1\n",
      "5 6 8\n",
      "\n",
      "_ 2 4\n",
      "7 3 1\n",
      "5 6 8\n",
      "\n",
      "7 2 4\n",
      "_ 3 1\n",
      "5 6 8\n",
      "\n",
      "7 2 4\n",
      "3 _ 1\n",
      "5 6 8\n",
      "\n",
      "7 2 4\n",
      "3 6 1\n",
      "5 _ 8\n",
      "\n",
      "7 2 4\n",
      "3 6 1\n",
      "5 8 _\n",
      "\n",
      "7 2 4\n",
      "3 6 _\n",
      "5 8 1\n",
      "\n",
      "7 2 4\n",
      "3 _ 6\n",
      "5 8 1\n",
      "\n",
      "7 2 4\n",
      "_ 3 6\n",
      "5 8 1\n",
      "\n",
      "7 2 4\n",
      "5 3 6\n",
      "_ 8 1\n",
      "\n",
      "7 2 4\n",
      "5 3 6\n",
      "8 _ 1\n",
      "\n",
      "7 2 4\n",
      "5 _ 6\n",
      "8 3 1\n",
      "\n",
      "7 2 4\n",
      "5 6 _\n",
      "8 3 1\n",
      "\n"
     ]
    }
   ],
   "source": [
    "for s in path_states(weighted_astar_search(e6)):\n",
    "    print(board8(s))"
   ]
  },
  {
   "cell_type": "markdown",
   "metadata": {},
   "source": [
    "### Unsolvable 8-Puzzle Problems"
   ]
  },
  {
   "cell_type": "markdown",
   "metadata": {},
   "source": [
    "There are cases in which the [8 puzzle is not solvable](https://www.cs.princeton.edu/courses/archive/fall12/cos226/assignments/8puzzle.html). For example, in the simple example below, switching the position of 1 and 2 makes it impossible to reach the goal state. It would seem that this could be done with a few simple slides, but tests with several algorithms show that they cannot find a solution.\n",
    "\n",
    "In general, an odd number of inversions ([inverted number positions](https://www.geeksforgeeks.org/check-instance-8-puzzle-solvable/)) from the starting state in comparision to the goal state leads to an unsolvable puzzle."
   ]
  },
  {
   "cell_type": "code",
   "execution_count": 30,
   "metadata": {},
   "outputs": [],
   "source": [
    "unsolvable_startState = (2, 1, 3, 4, 5, 6, 7, 8, 0)"
   ]
  },
  {
   "cell_type": "markdown",
   "metadata": {},
   "source": [
    "> Try to define a new `EightPuzzle` problem using `unsolvable_startState`."
   ]
  },
  {
   "cell_type": "code",
   "execution_count": 31,
   "metadata": {},
   "outputs": [
    {
     "ename": "AssertionError",
     "evalue": "",
     "output_type": "error",
     "traceback": [
      "\u001b[0;31m---------------------------------------------------------------------------\u001b[0m",
      "\u001b[0;31mAssertionError\u001b[0m                            Traceback (most recent call last)",
      "Input \u001b[0;32mIn [31]\u001b[0m, in \u001b[0;36m<module>\u001b[0;34m\u001b[0m\n\u001b[0;32m----> 1\u001b[0m e7 \u001b[38;5;241m=\u001b[39m \u001b[43mEightPuzzle\u001b[49m\u001b[43m(\u001b[49m\u001b[43munsolvable_startState\u001b[49m\u001b[43m,\u001b[49m\u001b[43m \u001b[49m\u001b[43m(\u001b[49m\u001b[38;5;241;43m8\u001b[39;49m\u001b[43m,\u001b[49m\u001b[43m \u001b[49m\u001b[38;5;241;43m6\u001b[39;49m\u001b[43m,\u001b[49m\u001b[43m \u001b[49m\u001b[38;5;241;43m7\u001b[39;49m\u001b[43m,\u001b[49m\u001b[43m \u001b[49m\u001b[38;5;241;43m2\u001b[39;49m\u001b[43m,\u001b[49m\u001b[43m \u001b[49m\u001b[38;5;241;43m5\u001b[39;49m\u001b[43m,\u001b[49m\u001b[43m \u001b[49m\u001b[38;5;241;43m4\u001b[39;49m\u001b[43m,\u001b[49m\u001b[43m \u001b[49m\u001b[38;5;241;43m0\u001b[39;49m\u001b[43m,\u001b[49m\u001b[43m \u001b[49m\u001b[38;5;241;43m3\u001b[39;49m\u001b[43m,\u001b[49m\u001b[43m \u001b[49m\u001b[38;5;241;43m1\u001b[39;49m\u001b[43m)\u001b[49m\u001b[43m)\u001b[49m\n",
      "Input \u001b[0;32mIn [26]\u001b[0m, in \u001b[0;36mEightPuzzle.__init__\u001b[0;34m(self, initial, goal)\u001b[0m\n\u001b[1;32m     13\u001b[0m \u001b[38;5;28;01mdef\u001b[39;00m \u001b[38;5;21m__init__\u001b[39m(\u001b[38;5;28mself\u001b[39m, initial, goal\u001b[38;5;241m=\u001b[39m(\u001b[38;5;241m0\u001b[39m, \u001b[38;5;241m1\u001b[39m, \u001b[38;5;241m2\u001b[39m, \u001b[38;5;241m3\u001b[39m, \u001b[38;5;241m4\u001b[39m, \u001b[38;5;241m5\u001b[39m, \u001b[38;5;241m6\u001b[39m, \u001b[38;5;241m7\u001b[39m, \u001b[38;5;241m8\u001b[39m)):\n\u001b[0;32m---> 14\u001b[0m     \u001b[38;5;28;01massert\u001b[39;00m inversions(initial) \u001b[38;5;241m%\u001b[39m \u001b[38;5;241m2\u001b[39m \u001b[38;5;241m==\u001b[39m inversions(goal) \u001b[38;5;241m%\u001b[39m \u001b[38;5;241m2\u001b[39m  \u001b[38;5;66;03m# Parity check\u001b[39;00m\n\u001b[1;32m     15\u001b[0m     \u001b[38;5;28mself\u001b[39m\u001b[38;5;241m.\u001b[39minitial, \u001b[38;5;28mself\u001b[39m\u001b[38;5;241m.\u001b[39mgoal \u001b[38;5;241m=\u001b[39m initial, goal\n",
      "\u001b[0;31mAssertionError\u001b[0m: "
     ]
    }
   ],
   "source": [
    "e7 = EightPuzzle(unsolvable_startState, (8, 6, 7, 2, 5, 4, 0, 3, 1))\n",
    "\n",
    "# Code produces an error due to it being unsolvable"
   ]
  },
  {
   "cell_type": "markdown",
   "metadata": {},
   "source": [
    "### Heuristic Functions: h3 and h4"
   ]
  },
  {
   "cell_type": "markdown",
   "metadata": {},
   "source": [
    "Add two new heuristics `h3` and `h4` to `EightPuzzle` class. `h3` should be the square root of Manhattan distance and `h4` should be defined as the maximum of `h1` and `h2`. Try running the `weighted_astar_search` on `e6` once with `h3` and once with `h4`. **They should run error-free. Your code will be tested!**"
   ]
  },
  {
   "cell_type": "markdown",
   "metadata": {},
   "source": [
    "Note: - h3 and h4 have been added to the EightPuzzle class above and a copy of that has also been placed below"
   ]
  },
  {
   "cell_type": "code",
   "execution_count": 32,
   "metadata": {},
   "outputs": [],
   "source": [
    "# Import Class\n",
    "\n",
    "class EightPuzzle(Problem):\n",
    "    \"\"\" The problem of sliding tiles numbered from 1 to 8 on a 3x3 board,\n",
    "    where one of the squares is a blank, trying to reach a goal configuration.\n",
    "    A board state is represented as a tuple of length 9, where the element at index i\n",
    "    represents the tile number at index i, or 0 if for the empty square, e.g. the goal:\n",
    "        1 2 3\n",
    "        4 5 6 ==> (1, 2, 3, 4, 5, 6, 7, 8, 0)\n",
    "        7 8 _\n",
    "    \"\"\"\n",
    "\n",
    "    def __init__(self, initial, goal=(0, 1, 2, 3, 4, 5, 6, 7, 8)):\n",
    "        assert inversions(initial) % 2 == inversions(goal) % 2  # Parity check\n",
    "        self.initial, self.goal = initial, goal\n",
    "\n",
    "    def actions(self, state):\n",
    "        \"\"\"The indexes of the squares that the blank can move to.\"\"\"\n",
    "        moves = ((1, 3), (0, 2, 4), (1, 5),\n",
    "                 (0, 4, 6), (1, 3, 5, 7), (2, 4, 8),\n",
    "                 (3, 7), (4, 6, 8), (7, 5))\n",
    "        blank = state.index(0)\n",
    "        return moves[blank]\n",
    "\n",
    "    def result(self, state, action):\n",
    "        \"\"\"Swap the blank with the square numbered `action`.\"\"\"\n",
    "        s = list(state)\n",
    "        blank = state.index(0)\n",
    "        s[action], s[blank] = s[blank], s[action]\n",
    "        return tuple(s)\n",
    "\n",
    "    def h1(self, node):\n",
    "        \"\"\"The misplaced tiles heuristic.\"\"\"\n",
    "        return hamming_distance(node.state, self.goal)\n",
    "\n",
    "    def h2(self, node):\n",
    "        \"\"\"The Manhattan heuristic.\"\"\"\n",
    "        X = (0, 1, 2, 0, 1, 2, 0, 1, 2)\n",
    "        Y = (0, 0, 0, 1, 1, 1, 2, 2, 2)\n",
    "        return sum(abs(X[s] - X[g]) + abs(Y[s] - Y[g])\n",
    "                   for (s, g) in zip(node.state, self.goal) if s != 0)\n",
    "\n",
    "    # Implementation of h3 and h4 below\n",
    "    \n",
    "    def h3(self, node):\n",
    "        return math.sqrt(self.h2(node))\n",
    "\n",
    "    def h4(self, node):\n",
    "        return max(self.h1(node), self.h2(node))\n",
    "\n",
    "    def h(self, node): return self.h2(node)\n",
    "\n",
    "\n",
    "# A* Search Algorithm\n",
    "\n",
    "def astar_search(problem, h=None):\n",
    "    \"\"\"Search nodes with minimum f(n) = g(n) + h(n).\"\"\"\n",
    "    h = h or problem.h\n",
    "    return best_first_search(problem, f=lambda n: g(n) + h(n))"
   ]
  },
  {
   "cell_type": "markdown",
   "metadata": {},
   "source": [
    "### Comparing Heuristics"
   ]
  },
  {
   "cell_type": "markdown",
   "metadata": {},
   "source": [
    "Similar to **\"Comparing heuritic\"** report in `search4e.ipynb` and using `CountCalls` class, generate a report to compare the results of A* using the four heuristics [`h1`, `h2`, `h3`, `h4`] on `e6`."
   ]
  },
  {
   "cell_type": "code",
   "execution_count": 33,
   "metadata": {},
   "outputs": [],
   "source": [
    "# Import Cells\n",
    "\n",
    "class CountCalls:\n",
    "    \"\"\"Delegate all attribute gets to the object, and count them in ._counts\"\"\"\n",
    "\n",
    "    def __init__(self, obj):\n",
    "        self._object = obj\n",
    "        self._counts = Counter()\n",
    "\n",
    "    def __getattr__(self, attr):\n",
    "        \"Delegate to the original object, after incrementing a counter.\"\n",
    "        self._counts[attr] += 1\n",
    "        return getattr(self._object, attr)\n",
    "\n",
    "\n",
    "def report(searchers, problems, verbose=True):\n",
    "    \"\"\"Show summary statistics for each searcher (and on each problem unless verbose is false).\"\"\"\n",
    "    for searcher in searchers:\n",
    "        print(searcher.__name__ + ':')\n",
    "        total_counts = Counter()\n",
    "        for p in problems:\n",
    "            prob = CountCalls(p)\n",
    "            soln = searcher(prob)\n",
    "            counts = prob._counts;\n",
    "            counts.update(actions=len(soln), cost=soln.path_cost)\n",
    "            total_counts += counts\n",
    "            if verbose: report_counts(counts, str(p)[:40])\n",
    "        report_counts(total_counts, 'TOTAL\\n')\n",
    "\n",
    "\n",
    "def report_counts(counts, name):\n",
    "    \"\"\"Print one line of the counts report.\"\"\"\n",
    "    print('{:9,d} nodes |{:9,d} goal |{:5.0f} cost |{:8,d} actions | {}'.format(\n",
    "        counts['result'], counts['is_goal'], counts['cost'], counts['actions'], name))\n"
   ]
  },
  {
   "cell_type": "code",
   "execution_count": 34,
   "metadata": {},
   "outputs": [
    {
     "name": "stdout",
     "output_type": "stream",
     "text": [
      "astar_misplaced_tiles:\n",
      "   52,559 nodes |   19,267 goal |   24 cost |  19,290 actions | EightPuzzle((1, 0, 3, 4, 2, 5, 6, 7, 8),\n",
      "   52,559 nodes |   19,267 goal |   24 cost |  19,290 actions | TOTAL\n",
      "\n",
      "astar_manhattan:\n",
      "   38,252 nodes |   14,117 goal |   26 cost |  14,142 actions | EightPuzzle((1, 0, 3, 4, 2, 5, 6, 7, 8),\n",
      "   38,252 nodes |   14,117 goal |   26 cost |  14,142 actions | TOTAL\n",
      "\n",
      "astar_sqrt_manhattan:\n",
      "  151,241 nodes |   55,563 goal |   24 cost |  55,586 actions | EightPuzzle((1, 0, 3, 4, 2, 5, 6, 7, 8),\n",
      "  151,241 nodes |   55,563 goal |   24 cost |  55,586 actions | TOTAL\n",
      "\n",
      "astar_max:\n",
      "   38,220 nodes |   14,101 goal |   26 cost |  14,126 actions | EightPuzzle((1, 0, 3, 4, 2, 5, 6, 7, 8),\n",
      "   38,220 nodes |   14,101 goal |   26 cost |  14,126 actions | TOTAL\n",
      "\n"
     ]
    }
   ],
   "source": [
    "def astar_misplaced_tiles(problem): return astar_search(problem, h=problem.h1)\n",
    "\n",
    "def astar_manhattan(problem): return astar_search(problem, h=problem.h2)\n",
    "\n",
    "def astar_sqrt_manhattan(problem): return astar_search(problem, h=problem.h3)\n",
    "\n",
    "def astar_max(problem): return astar_search(problem, h=problem.h4)\n",
    "\n",
    "report([astar_misplaced_tiles, astar_manhattan, astar_sqrt_manhattan, astar_max], \n",
    "       [e6])"
   ]
  },
  {
   "cell_type": "markdown",
   "metadata": {},
   "source": [
    "### Part II Questions"
   ]
  },
  {
   "cell_type": "markdown",
   "metadata": {},
   "source": [
    "- **Q4** [2 points] - Could you define `e7`? Explain why based on the provided resources in the links above.\n",
    "\n",
    "- **Q5** [8 points] - According to the report you generated, which heuristic is the best one among `[h1, h2, h3, h4]`? Why? Explain COMPLETELY. Your explanation should be based on the report and the reasons discussed in Section 3.6.1 and Figure 3.26 of the textbook and should mention **Domination**."
   ]
  },
  {
   "cell_type": "markdown",
   "metadata": {},
   "source": [
    "- Your answers to Part II questions go here - below the line:\n",
    "\n",
    "========================================================\n",
    "\n",
    "\n",
    "YOUR Answers:\n",
    "\n",
    "- Q4: By understanding how inversion works we can see that 'e7' produces an odd number of total inversions hence classifying it under the unsolvable category.\n",
    "\n",
    "- Q5: From the report generated above the better heurestic (according to search4e.ipynb) is the one where the amount of nodes explored would be the least, hence on that end astar_max '(h4)' is the best among this. However this is just shy of 32 nodes from astar_manhattan '(h2)', and as h1 and h2 are both admissible h4 does not matter due to it being max {h1(n), h2(n)}. Hence the best heuristic would be h2. Both however dominate h1 and h3 due to h2 and h4 never expanding more nodes than h1 and h.  "
   ]
  },
  {
   "cell_type": "markdown",
   "metadata": {},
   "source": [
    "## Part III - A*, Admissibility, and Consistency"
   ]
  },
  {
   "cell_type": "markdown",
   "metadata": {},
   "source": [
    "The following graph shows the state space of a search problem. Answer the following questions.\n",
    "\n",
    "<font color=red> **ALL your answers should be typed in including the math inequality. Handwritten answers or screenshots will get zero.**</font>\n",
    "\n",
    "**Note:** You MUST use [LaTeX](https://oeis.org/wiki/List_of_LaTeX_mathematical_symbols) for math. You can put your math equations between `$` You may also put them between `$$` to align it on center. See how Latex is used in the questions to display the math by putting them between `$$`\n",
    "\n",
    "<img src=\"A-star.png\" align=\"left\"/>"
   ]
  },
  {
   "cell_type": "markdown",
   "metadata": {},
   "source": [
    "### Part III Questions"
   ]
  },
  {
   "cell_type": "markdown",
   "metadata": {},
   "source": [
    "- **Q6** [10 points] - Is this heuristic $h(n)$ admissible? You must prove admissibility using the inequality from slides for every node or to prove otherwise you must show a counter-example.\n",
    "$$\\forall\\, node\\,n, h(n) \\le h^*(n)$$\n",
    "> where $h^*(n)$ is the true actual (minimal) cost from $n$ to goal\n",
    "\n",
    "- **Q7** [10 points] - Is this heuristic $h(n)$ consistent? You must prove consistency using the inequality from slides for every node or to prove otherwise you must show a counter-example.\n",
    " a heuristic $h$ is consistent if for every node $n$ of a parent node $p$,\n",
    "\n",
    "$$h(p) \\le h(n) + \\mathrm{stepcost}(p,n)$$\n",
    "\n",
    "- **Q8** [5 points] - Is **A\\* Search** (tree version) guaranteed to find the optimal solution for this state space? Why? What solution and goal would be returned if you run **A\\* Search** on this problem?"
   ]
  },
  {
   "cell_type": "markdown",
   "metadata": {},
   "source": [
    "- Your answers to Part III questions go here - below the line:\n",
    "\n",
    "========================================================\n",
    "\n",
    "\n",
    "YOUR Answers:\n",
    "\n",
    "- Q6- Below show's the A* Search algorithm $(F(n) = g(n) + h(n))$ results once applied on the search problem above. Hence $F(n)$ has been shown next to the path travelled. The admissibility has been listed for every node in the state space below\n",
    "\n",
    "      S -> A -> C -> F -> G1 = 12\n",
    "      S -> A -> D -> H -> G1 = 12 \n",
    "      S -> A -> D -> J -> G1 = 22\n",
    "      S -> B -> E -> K -> G2 = 8\n",
    "\n",
    "  As the heurestic value for $S = 8$, this proves satisfies the condition of $\\forall\\, node\\,n, h(n) \\le h^*(n)$ for the node $S$.\n",
    "  \n",
    "      A -> C -> F -> G1 = 8\n",
    "      A -> D -> H -> G1 = 8\n",
    "      A -> D -> J -> G1 = 18\n",
    "  \n",
    "  As the heurestic value for $A = 7$, this satisfies the condition of $\\forall\\, node\\,n, h(n) \\le h^*(n)$ for the node $A$.\n",
    "  \n",
    "      C -> F -> G1 = 4\n",
    "  \n",
    "  As the heurestic value for $C = 3$, this satisfies the condition of $\\forall\\, node\\,n, h(n) \\le h^*(n)$ for the node $C$.\n",
    "  \n",
    "      F -> G1 = 4\n",
    "      \n",
    "  As the heurestic value for $F = 4$, this satisfies the condition of $\\forall\\, node\\,n, h(n) \\le h^*(n)$ for the node $F$.\n",
    "  \n",
    "      D -> H -> G1 = 3\n",
    "      D -> J -> G1 = 13\n",
    "      \n",
    "  As the heurestic value for $D = 2$, this satisfies the condition of $\\forall\\, node\\,n, h(n) \\le h^*(n)$ for the node $D$.\n",
    "  \n",
    "      H -> G1 = 1\n",
    "  \n",
    "  As the heurestic value for $H = 1$, this satisfies the condition of $\\forall\\, node\\,n, h(n) \\le h^*(n)$ for the node $H$.\n",
    "  \n",
    "      J -> G1 = 10\n",
    "      \n",
    "  As the heurestic value for $J = 5$, this satisfies the condition of $\\forall\\, node\\,n, h(n) \\le h^*(n)$ for the node $J$.\n",
    "  \n",
    "      B -> E -> K -> G2 = 6\n",
    "      \n",
    "  As the heurestic value for $B = 6$, this satisfies the condition of $\\forall\\, node\\,n, h(n) \\le h^*(n)$ for the node $B$.\n",
    "  \n",
    "      E -> K -> G2 = 3\n",
    "      E -> J -> G1 = 16\n",
    "  \n",
    "  As the heurestic value for $E = 3$, this satisfies the condition of $\\forall\\, node\\,n, h(n) \\le h^*(n)$ for the node $E$.\n",
    "  \n",
    "      K -> G2 = 2\n",
    "  \n",
    "  As the heurestic value for $K = 2$, this satisfies the condition of $\\forall\\, node\\,n, h(n) \\le h^*(n)$ for the node $K$.\n",
    "  \n",
    "  From the above heurestic tests done we can see that all of the nodes hold true to the statement $\\forall\\, node\\,n, h(n) \\le h^*(n)$. Therefore we can conclude that the heurestic is admissible. \n",
    "\n",
    "\n",
    "- Q7- For finding if a heurestic is consistent or not there are two conditions to be met, one of them being that the heurestic value of the goal should be $0$ (which is true) and the latter being that the heurestic should conform to the triangle inequality method. By utilizing the triangle inequality as $(h(s) \\le c(s,n) + h(n))$ for each node we can find out if the heurestic is consistent or not.\n",
    "\n",
    " * S -> A = $8 \\le (4) + (7)$ = $8 \\le 11$     (TRUE) \n",
    " * S -> C = $8 \\le (3) + (3)$ = $8 \\le 6$      (FALSE)\n",
    " \n",
    "   Hence from the above we can see that the triangle inequality was violated from $S -> C$. \n",
    "      \n",
    "\n",
    "- Q8- A* search was run on the following heurestic on Q6 and it resulted in us getting an optimal solution path of $S -> B -> E -> K -> G2$ with a cost of $8$. This is because A* search underestimates the cost of the path to the goal. Thereby as long as it does an underestimation it would keep on searching until the search algorithm can find the best route. \n",
    "\n",
    "      S -> A = 11\n",
    "      S -> B = 8                                 Visited = S(8)\n",
    "      S -> A -> C = 10\n",
    "      S -> A -> D = 11                           Visited = S(8), A(11)\n",
    "      S -> A -> C -> F = 12                      Visited = S(8), A(11), C(10)\n",
    "      S -> A -> D -> H = 12\n",
    "      S -> A -> D -> J = 17                      Visited = S(8), A(11), C(10), D(11)\n",
    "      S -> A -> C -> F -> G1 = 12                Visited = S(8), A(11), C(10), D(11), F(12)\n",
    "      S -> A -> D -> H -> G1 = 12                Visited = S(8), A(11), C(10), D(11), F(12), H(12)\n",
    "      S -> A -> D -> J -> G1 = 22\n",
    "      S -> B -> E = 8                            Visited = S(8), A(11), C(10), D(11), F(12), H(12), B(8)\n",
    "      S -> B -> E -> J = 16                      Visited = S(8), A(11), C(10), D(11), F(12), H(12), B(8)\n",
    "      S -> B -> E -> J -> G1 = 21                Visited = S(8), A(11), C(10), D(11), F(12), H(12), B(8), J(16)\n",
    "      S -> B -> E -> K = 8                       Visited = S(8), A(11), C(10), D(11), F(12), H(12), B(8), J(16), E(8)\n",
    "      S -> B -> E -> K -> G2 = 8 = GOAL          Visited = S(8), A(11), C(10), D(11), F(12), H(12), B(8), J(16), E(8),K(8)"
   ]
  },
  {
   "cell_type": "markdown",
   "metadata": {},
   "source": [
    "## Grading\n",
    "\n",
    "Assignment-1 has a maximum of 100 points. Make sure that you get the desired outputs for all cells. Also, your notebook should be written with no grammatical and spelling errors and should be nicely-formatted and easy-to-read.\n",
    "\n",
    "The breakdown of the 100 points is as follows:\n",
    "\n",
    "Part I has 40 points:\n",
    "- codes and correct outputs: [30 points]\n",
    "- correct answer of the Part I questions: [10 points] {Q1: 2 points Q2 & Q3: 4 points each} \n",
    "\n",
    "Part II has 35 points:\n",
    "- codes and correct outputs: [25 points]\n",
    "- correct answers of the Part II questions: [10 points] {Q4: 2 points Q5: 8 points}\n",
    "\n",
    "Part III has 25 points:\n",
    "- Admissibility - Q6 [10 points] **Handwritten and non-LaTeX answers will get zero!**\n",
    "- Consistency - Q7 [10 points] **Handwritten and non-LaTeX answers will get zero!**\n",
    "- A* - Q8 [5 points]\n",
    "\n",
    "<b>Note: </b>Follow the instructions of each section carefully. <b>Up to 10 points will be deducted if your submitted notebook is not easy to read and follow or if it has grammatical and spelling errors.</b>\n",
    "\n",
    "Grading will be based on: \n",
    "\n",
    "  * correct implementation,\n",
    "  * running ALL cells and correct outputs, (cells with no output get ZERO for the whole part that includes the cell except for the grid problem)\n",
    "  * correct answer to the questions,\n",
    "  * readability of the notebook."
   ]
  },
  {
   "cell_type": "markdown",
   "metadata": {},
   "source": [
    "## Submission"
   ]
  },
  {
   "cell_type": "markdown",
   "metadata": {},
   "source": [
    "Name your completed notebook ```Lastname-A1.ipynb```. Submit the completed notebook using the ```Assignment-1``` link on Blackboard.\n",
    "  \n",
    "<font color=red><b>Due Date: Tuesday March 1st, 11:59PM</b></font>"
   ]
  }
 ],
 "metadata": {
  "anaconda-cloud": {},
  "kernelspec": {
   "display_name": "Python 3 (ipykernel)",
   "language": "python",
   "name": "python3"
  },
  "language_info": {
   "codemirror_mode": {
    "name": "ipython",
    "version": 3
   },
   "file_extension": ".py",
   "mimetype": "text/x-python",
   "name": "python",
   "nbconvert_exporter": "python",
   "pygments_lexer": "ipython3",
   "version": "3.8.10"
  }
 },
 "nbformat": 4,
 "nbformat_minor": 4
}
