{
 "cells": [
  {
   "cell_type": "markdown",
   "metadata": {},
   "source": [
    "# CMSC471 - Artificial Intelligence - Spring 2022\n",
    "## Instructor: Fereydoon Vafaei\n",
    "# <font color=\"blue\"> Assignment 4: Classification</font>"
   ]
  },
  {
   "cell_type": "markdown",
   "metadata": {},
   "source": [
    "Name: - Kanishka Ponnamperuma, ID: - CO26615"
   ]
  },
  {
   "cell_type": "markdown",
   "metadata": {},
   "source": [
    "## Overview and Learning Objectives"
   ]
  },
  {
   "cell_type": "markdown",
   "metadata": {},
   "source": [
    "You've learned very important and fundamental concepts in ML so far. This assignment will take your understanding to the next level by some insightful exercises. What you practice in this assignment are critical ML skills.</b>\n",
    "\n",
    "In this assignment, you are going to build and compare three classifiers applied on South African Heart Disease dataset from the book: [\"Elements of Statistical Learning\"](https://web.stanford.edu/~hastie/ElemStatLearn/) by T. Hastie, R. Tibshirani, and J. Friedman.\n",
    "\n",
    "**AI/Machine Learning in Healthcare** is currently one of the trend application domains of ML. According to [ReportLinker](https://www.reportlinker.com/p05251483/Global-AI-in-Healthcare-Market-Report-for.html), \"spending on this category is forecasted to jump from \\\\$2.1 billion to \\\\$36.1 billion by 2025. This is a 50.2% Compound Annual Growth Rate (CAGR).\"\n",
    "\n",
    "<b>Note: </b>As you work through this assignment, you are recommended to check the textbook examples, notebooks and sklearn documentations.\n",
    "\n",
    "<b>Course Policy Reminder:</b>\n",
    "Debugging and error resolution are always students' responsbility. This policy will be enforced in email communications and the office hours. Keep in mind that all assignments are individual graded tasks. Any collaboration with other students is strictly prohibited and is considered as cheating. Students should NOT share any answer, solution, or code with other students. Violations of these policies would be penalized according to UMBC academic integrity policy.\n",
    "\n",
    "**You must run ALL cells** and get the correct outputs for all cells and give complete answers to all questions. **Cells/codes with no output get zero!**\n",
    "\n",
    "Pedagogically, this assignment will help you:\n",
    "- better understand classification.\n",
    "\n",
    "- getting started with scikit-learn and its built-in methods, as well as implemented classification models.\n",
    "\n",
    "- practice data preprocessing.\n",
    "\n",
    "- practice model evaluation using performance metrics and cross validation.\n",
    "\n",
    "- learn how to plot ROC curves.\n",
    "\n",
    "Wherever needed, you should replace `...` elipsis with your code.\n",
    "\n",
    "`...` may indicate one or more lines of missing codes. Some outputs are provided to you to use as reference and to verify that your output is correct. Other outputs are NOT provided intentionally."
   ]
  },
  {
   "cell_type": "markdown",
   "metadata": {},
   "source": [
    "## Import Cell"
   ]
  },
  {
   "cell_type": "markdown",
   "metadata": {},
   "source": [
    "The first step is importing all necessary python and sklearn modules. **You definitely need to add to the following imports as you work on the assignment.** When you import a new module, add it here in the same cell. All imports should be in this cell."
   ]
  },
  {
   "cell_type": "code",
   "execution_count": 1,
   "metadata": {},
   "outputs": [],
   "source": [
    "import sys\n",
    "import numpy as np\n",
    "import pandas as pd\n",
    "import matplotlib.pyplot as plt\n",
    "from sklearn.model_selection import train_test_split\n",
    "from sklearn.datasets import load_iris\n",
    "from sklearn.model_selection import KFold\n",
    "from sklearn.model_selection import cross_val_score\n",
    "from sklearn.linear_model import LogisticRegression\n",
    "from sklearn.svm import LinearSVC\n",
    "from sklearn.ensemble import RandomForestClassifier\n",
    "from sklearn import metrics\n",
    "from sklearn.metrics import roc_curve\n",
    "from sklearn.metrics import roc_auc_score"
   ]
  },
  {
   "cell_type": "markdown",
   "metadata": {},
   "source": [
    "## Preprocessing"
   ]
  },
  {
   "cell_type": "markdown",
   "metadata": {},
   "source": [
    "You are going to build three classifiers from sklearn to predict heart disease. First, download the data [SAheart.csv](https://github.com/fereydoonvafaei/CMSC471-Spring-2022/blob/main/SAheart.csv) and save it in your working directory."
   ]
  },
  {
   "cell_type": "markdown",
   "metadata": {},
   "source": [
    "> Next, load the data with pandas. The data (csv file) should be stored in the same working directory as your notebook."
   ]
  },
  {
   "cell_type": "code",
   "execution_count": 2,
   "metadata": {},
   "outputs": [],
   "source": [
    "heart_data = pd.read_csv('SAheart.csv')"
   ]
  },
  {
   "cell_type": "code",
   "execution_count": 3,
   "metadata": {},
   "outputs": [
    {
     "data": {
      "text/html": [
       "<div>\n",
       "<style scoped>\n",
       "    .dataframe tbody tr th:only-of-type {\n",
       "        vertical-align: middle;\n",
       "    }\n",
       "\n",
       "    .dataframe tbody tr th {\n",
       "        vertical-align: top;\n",
       "    }\n",
       "\n",
       "    .dataframe thead th {\n",
       "        text-align: right;\n",
       "    }\n",
       "</style>\n",
       "<table border=\"1\" class=\"dataframe\">\n",
       "  <thead>\n",
       "    <tr style=\"text-align: right;\">\n",
       "      <th></th>\n",
       "      <th>row.names</th>\n",
       "      <th>sbp</th>\n",
       "      <th>tobacco</th>\n",
       "      <th>ldl</th>\n",
       "      <th>adiposity</th>\n",
       "      <th>famhist</th>\n",
       "      <th>typea</th>\n",
       "      <th>obesity</th>\n",
       "      <th>alcohol</th>\n",
       "      <th>age</th>\n",
       "      <th>chd</th>\n",
       "    </tr>\n",
       "  </thead>\n",
       "  <tbody>\n",
       "    <tr>\n",
       "      <th>0</th>\n",
       "      <td>1</td>\n",
       "      <td>160</td>\n",
       "      <td>12.00</td>\n",
       "      <td>5.73</td>\n",
       "      <td>23.11</td>\n",
       "      <td>Present</td>\n",
       "      <td>49</td>\n",
       "      <td>25.30</td>\n",
       "      <td>97.20</td>\n",
       "      <td>52</td>\n",
       "      <td>1</td>\n",
       "    </tr>\n",
       "    <tr>\n",
       "      <th>1</th>\n",
       "      <td>2</td>\n",
       "      <td>144</td>\n",
       "      <td>0.01</td>\n",
       "      <td>4.41</td>\n",
       "      <td>28.61</td>\n",
       "      <td>Absent</td>\n",
       "      <td>55</td>\n",
       "      <td>28.87</td>\n",
       "      <td>2.06</td>\n",
       "      <td>63</td>\n",
       "      <td>1</td>\n",
       "    </tr>\n",
       "    <tr>\n",
       "      <th>2</th>\n",
       "      <td>3</td>\n",
       "      <td>118</td>\n",
       "      <td>0.08</td>\n",
       "      <td>3.48</td>\n",
       "      <td>32.28</td>\n",
       "      <td>Present</td>\n",
       "      <td>52</td>\n",
       "      <td>29.14</td>\n",
       "      <td>3.81</td>\n",
       "      <td>46</td>\n",
       "      <td>0</td>\n",
       "    </tr>\n",
       "    <tr>\n",
       "      <th>3</th>\n",
       "      <td>4</td>\n",
       "      <td>170</td>\n",
       "      <td>7.50</td>\n",
       "      <td>6.41</td>\n",
       "      <td>38.03</td>\n",
       "      <td>Present</td>\n",
       "      <td>51</td>\n",
       "      <td>31.99</td>\n",
       "      <td>24.26</td>\n",
       "      <td>58</td>\n",
       "      <td>1</td>\n",
       "    </tr>\n",
       "    <tr>\n",
       "      <th>4</th>\n",
       "      <td>5</td>\n",
       "      <td>134</td>\n",
       "      <td>13.60</td>\n",
       "      <td>3.50</td>\n",
       "      <td>27.78</td>\n",
       "      <td>Present</td>\n",
       "      <td>60</td>\n",
       "      <td>25.99</td>\n",
       "      <td>57.34</td>\n",
       "      <td>49</td>\n",
       "      <td>1</td>\n",
       "    </tr>\n",
       "  </tbody>\n",
       "</table>\n",
       "</div>"
      ],
      "text/plain": [
       "   row.names  sbp  tobacco   ldl  adiposity  famhist  typea  obesity  alcohol  \\\n",
       "0          1  160    12.00  5.73      23.11  Present     49    25.30    97.20   \n",
       "1          2  144     0.01  4.41      28.61   Absent     55    28.87     2.06   \n",
       "2          3  118     0.08  3.48      32.28  Present     52    29.14     3.81   \n",
       "3          4  170     7.50  6.41      38.03  Present     51    31.99    24.26   \n",
       "4          5  134    13.60  3.50      27.78  Present     60    25.99    57.34   \n",
       "\n",
       "   age  chd  \n",
       "0   52    1  \n",
       "1   63    1  \n",
       "2   46    0  \n",
       "3   58    1  \n",
       "4   49    1  "
      ]
     },
     "execution_count": 3,
     "metadata": {},
     "output_type": "execute_result"
    }
   ],
   "source": [
    "# Print heart_data shape and the first five rows\n",
    "heart_data.head()"
   ]
  },
  {
   "cell_type": "markdown",
   "metadata": {},
   "source": [
    "Here is some description about the features from the data source:"
   ]
  },
  {
   "cell_type": "markdown",
   "metadata": {},
   "source": [
    "> \"A retrospective sample of males in a heart-disease high-risk region of the Western Cape, South Africa. There are roughly two controls per case of CHD. Many of the CHD positive men have undergone blood pressure reduction treatment and other programs to reduce their risk factors after their CHD event. In some cases the measurements were made after these treatments. These data are taken from a larger dataset, described in  Rousseauw et al, 1983, South African Medical Journal.\" \n",
    "\n",
    "        sbp\t        systolic blood pressure\n",
    "        tobacco\t\tcumulative tobacco (kg)\n",
    "        ldl\t\t    low densiity lipoprotein cholesterol\n",
    "        adiposity\n",
    "        famhist\t\tfamily history of heart disease (Present, Absent)\n",
    "        typea\t\t  type-A behavior\n",
    "        obesity\n",
    "        alcohol\t\tcurrent alcohol consumption\n",
    "        age\t\t    age at onset\n",
    "        chd\t\t    label, coronary heart disease\n"
   ]
  },
  {
   "cell_type": "code",
   "execution_count": 4,
   "metadata": {},
   "outputs": [
    {
     "data": {
      "text/html": [
       "<div>\n",
       "<style scoped>\n",
       "    .dataframe tbody tr th:only-of-type {\n",
       "        vertical-align: middle;\n",
       "    }\n",
       "\n",
       "    .dataframe tbody tr th {\n",
       "        vertical-align: top;\n",
       "    }\n",
       "\n",
       "    .dataframe thead th {\n",
       "        text-align: right;\n",
       "    }\n",
       "</style>\n",
       "<table border=\"1\" class=\"dataframe\">\n",
       "  <thead>\n",
       "    <tr style=\"text-align: right;\">\n",
       "      <th></th>\n",
       "      <th>sbp</th>\n",
       "      <th>tobacco</th>\n",
       "      <th>ldl</th>\n",
       "      <th>adiposity</th>\n",
       "      <th>famhist</th>\n",
       "      <th>typea</th>\n",
       "      <th>obesity</th>\n",
       "      <th>alcohol</th>\n",
       "      <th>age</th>\n",
       "      <th>chd</th>\n",
       "    </tr>\n",
       "  </thead>\n",
       "  <tbody>\n",
       "    <tr>\n",
       "      <th>0</th>\n",
       "      <td>160</td>\n",
       "      <td>12.00</td>\n",
       "      <td>5.73</td>\n",
       "      <td>23.11</td>\n",
       "      <td>Present</td>\n",
       "      <td>49</td>\n",
       "      <td>25.30</td>\n",
       "      <td>97.20</td>\n",
       "      <td>52</td>\n",
       "      <td>1</td>\n",
       "    </tr>\n",
       "    <tr>\n",
       "      <th>1</th>\n",
       "      <td>144</td>\n",
       "      <td>0.01</td>\n",
       "      <td>4.41</td>\n",
       "      <td>28.61</td>\n",
       "      <td>Absent</td>\n",
       "      <td>55</td>\n",
       "      <td>28.87</td>\n",
       "      <td>2.06</td>\n",
       "      <td>63</td>\n",
       "      <td>1</td>\n",
       "    </tr>\n",
       "    <tr>\n",
       "      <th>2</th>\n",
       "      <td>118</td>\n",
       "      <td>0.08</td>\n",
       "      <td>3.48</td>\n",
       "      <td>32.28</td>\n",
       "      <td>Present</td>\n",
       "      <td>52</td>\n",
       "      <td>29.14</td>\n",
       "      <td>3.81</td>\n",
       "      <td>46</td>\n",
       "      <td>0</td>\n",
       "    </tr>\n",
       "    <tr>\n",
       "      <th>3</th>\n",
       "      <td>170</td>\n",
       "      <td>7.50</td>\n",
       "      <td>6.41</td>\n",
       "      <td>38.03</td>\n",
       "      <td>Present</td>\n",
       "      <td>51</td>\n",
       "      <td>31.99</td>\n",
       "      <td>24.26</td>\n",
       "      <td>58</td>\n",
       "      <td>1</td>\n",
       "    </tr>\n",
       "    <tr>\n",
       "      <th>4</th>\n",
       "      <td>134</td>\n",
       "      <td>13.60</td>\n",
       "      <td>3.50</td>\n",
       "      <td>27.78</td>\n",
       "      <td>Present</td>\n",
       "      <td>60</td>\n",
       "      <td>25.99</td>\n",
       "      <td>57.34</td>\n",
       "      <td>49</td>\n",
       "      <td>1</td>\n",
       "    </tr>\n",
       "  </tbody>\n",
       "</table>\n",
       "</div>"
      ],
      "text/plain": [
       "   sbp  tobacco   ldl  adiposity  famhist  typea  obesity  alcohol  age  chd\n",
       "0  160    12.00  5.73      23.11  Present     49    25.30    97.20   52    1\n",
       "1  144     0.01  4.41      28.61   Absent     55    28.87     2.06   63    1\n",
       "2  118     0.08  3.48      32.28  Present     52    29.14     3.81   46    0\n",
       "3  170     7.50  6.41      38.03  Present     51    31.99    24.26   58    1\n",
       "4  134    13.60  3.50      27.78  Present     60    25.99    57.34   49    1"
      ]
     },
     "execution_count": 4,
     "metadata": {},
     "output_type": "execute_result"
    }
   ],
   "source": [
    "# The first column, row.names is useless for this ML task, drop it!\n",
    "heart_data = heart_data.iloc[:, 1:]\n",
    "\n",
    "heart_data.head()"
   ]
  },
  {
   "cell_type": "code",
   "execution_count": 5,
   "metadata": {},
   "outputs": [
    {
     "data": {
      "text/plain": [
       "sbp            int64\n",
       "tobacco      float64\n",
       "ldl          float64\n",
       "adiposity    float64\n",
       "famhist       object\n",
       "typea          int64\n",
       "obesity      float64\n",
       "alcohol      float64\n",
       "age            int64\n",
       "chd            int64\n",
       "dtype: object"
      ]
     },
     "execution_count": 5,
     "metadata": {},
     "output_type": "execute_result"
    }
   ],
   "source": [
    "# Get the features' data types (dtypes)\n",
    "heart_data.dtypes"
   ]
  },
  {
   "cell_type": "markdown",
   "metadata": {},
   "source": [
    "> Next, you need to convert `famhist` from categorical (Present/Absent) to numeric {0,1} so that it can be used by the classifiers."
   ]
  },
  {
   "cell_type": "code",
   "execution_count": 6,
   "metadata": {},
   "outputs": [
    {
     "data": {
      "text/html": [
       "<div>\n",
       "<style scoped>\n",
       "    .dataframe tbody tr th:only-of-type {\n",
       "        vertical-align: middle;\n",
       "    }\n",
       "\n",
       "    .dataframe tbody tr th {\n",
       "        vertical-align: top;\n",
       "    }\n",
       "\n",
       "    .dataframe thead th {\n",
       "        text-align: right;\n",
       "    }\n",
       "</style>\n",
       "<table border=\"1\" class=\"dataframe\">\n",
       "  <thead>\n",
       "    <tr style=\"text-align: right;\">\n",
       "      <th></th>\n",
       "      <th>sbp</th>\n",
       "      <th>tobacco</th>\n",
       "      <th>ldl</th>\n",
       "      <th>adiposity</th>\n",
       "      <th>famhist</th>\n",
       "      <th>typea</th>\n",
       "      <th>obesity</th>\n",
       "      <th>alcohol</th>\n",
       "      <th>age</th>\n",
       "      <th>chd</th>\n",
       "    </tr>\n",
       "  </thead>\n",
       "  <tbody>\n",
       "    <tr>\n",
       "      <th>0</th>\n",
       "      <td>160</td>\n",
       "      <td>12.00</td>\n",
       "      <td>5.73</td>\n",
       "      <td>23.11</td>\n",
       "      <td>1</td>\n",
       "      <td>49</td>\n",
       "      <td>25.30</td>\n",
       "      <td>97.20</td>\n",
       "      <td>52</td>\n",
       "      <td>1</td>\n",
       "    </tr>\n",
       "    <tr>\n",
       "      <th>1</th>\n",
       "      <td>144</td>\n",
       "      <td>0.01</td>\n",
       "      <td>4.41</td>\n",
       "      <td>28.61</td>\n",
       "      <td>0</td>\n",
       "      <td>55</td>\n",
       "      <td>28.87</td>\n",
       "      <td>2.06</td>\n",
       "      <td>63</td>\n",
       "      <td>1</td>\n",
       "    </tr>\n",
       "    <tr>\n",
       "      <th>2</th>\n",
       "      <td>118</td>\n",
       "      <td>0.08</td>\n",
       "      <td>3.48</td>\n",
       "      <td>32.28</td>\n",
       "      <td>1</td>\n",
       "      <td>52</td>\n",
       "      <td>29.14</td>\n",
       "      <td>3.81</td>\n",
       "      <td>46</td>\n",
       "      <td>0</td>\n",
       "    </tr>\n",
       "    <tr>\n",
       "      <th>3</th>\n",
       "      <td>170</td>\n",
       "      <td>7.50</td>\n",
       "      <td>6.41</td>\n",
       "      <td>38.03</td>\n",
       "      <td>1</td>\n",
       "      <td>51</td>\n",
       "      <td>31.99</td>\n",
       "      <td>24.26</td>\n",
       "      <td>58</td>\n",
       "      <td>1</td>\n",
       "    </tr>\n",
       "    <tr>\n",
       "      <th>4</th>\n",
       "      <td>134</td>\n",
       "      <td>13.60</td>\n",
       "      <td>3.50</td>\n",
       "      <td>27.78</td>\n",
       "      <td>1</td>\n",
       "      <td>60</td>\n",
       "      <td>25.99</td>\n",
       "      <td>57.34</td>\n",
       "      <td>49</td>\n",
       "      <td>1</td>\n",
       "    </tr>\n",
       "  </tbody>\n",
       "</table>\n",
       "</div>"
      ],
      "text/plain": [
       "   sbp  tobacco   ldl  adiposity  famhist  typea  obesity  alcohol  age  chd\n",
       "0  160    12.00  5.73      23.11        1     49    25.30    97.20   52    1\n",
       "1  144     0.01  4.41      28.61        0     55    28.87     2.06   63    1\n",
       "2  118     0.08  3.48      32.28        1     52    29.14     3.81   46    0\n",
       "3  170     7.50  6.41      38.03        1     51    31.99    24.26   58    1\n",
       "4  134    13.60  3.50      27.78        1     60    25.99    57.34   49    1"
      ]
     },
     "execution_count": 6,
     "metadata": {},
     "output_type": "execute_result"
    }
   ],
   "source": [
    "heart_data['famhist'] = heart_data['famhist'].map({'Present':1, 'Absent':0}) \n",
    "heart_data.head()"
   ]
  },
  {
   "cell_type": "code",
   "execution_count": 7,
   "metadata": {},
   "outputs": [
    {
     "data": {
      "text/plain": [
       "numpy.int64"
      ]
     },
     "execution_count": 7,
     "metadata": {},
     "output_type": "execute_result"
    }
   ],
   "source": [
    "# Check that the type of famhist is int\n",
    "type(heart_data['famhist'][0])"
   ]
  },
  {
   "cell_type": "code",
   "execution_count": 8,
   "metadata": {},
   "outputs": [
    {
     "name": "stdout",
     "output_type": "stream",
     "text": [
      "(462, 9)\n",
      "(462,)\n"
     ]
    }
   ],
   "source": [
    "# Create X, y, which means separate features from class labels \n",
    "# Note that X should contain all the features (columns) except 'chd'\n",
    "# y should only include 'chd' because it's the target class\n",
    "X = heart_data.drop('chd', axis=1)\n",
    "y = heart_data['chd']\n",
    "\n",
    "print(X.shape)\n",
    "print(y.shape)"
   ]
  },
  {
   "cell_type": "code",
   "execution_count": 9,
   "metadata": {},
   "outputs": [
    {
     "data": {
      "text/html": [
       "<div>\n",
       "<style scoped>\n",
       "    .dataframe tbody tr th:only-of-type {\n",
       "        vertical-align: middle;\n",
       "    }\n",
       "\n",
       "    .dataframe tbody tr th {\n",
       "        vertical-align: top;\n",
       "    }\n",
       "\n",
       "    .dataframe thead th {\n",
       "        text-align: right;\n",
       "    }\n",
       "</style>\n",
       "<table border=\"1\" class=\"dataframe\">\n",
       "  <thead>\n",
       "    <tr style=\"text-align: right;\">\n",
       "      <th></th>\n",
       "      <th>sbp</th>\n",
       "      <th>tobacco</th>\n",
       "      <th>ldl</th>\n",
       "      <th>adiposity</th>\n",
       "      <th>famhist</th>\n",
       "      <th>typea</th>\n",
       "      <th>obesity</th>\n",
       "      <th>alcohol</th>\n",
       "      <th>age</th>\n",
       "    </tr>\n",
       "  </thead>\n",
       "  <tbody>\n",
       "    <tr>\n",
       "      <th>0</th>\n",
       "      <td>160</td>\n",
       "      <td>12.00</td>\n",
       "      <td>5.73</td>\n",
       "      <td>23.11</td>\n",
       "      <td>1</td>\n",
       "      <td>49</td>\n",
       "      <td>25.30</td>\n",
       "      <td>97.20</td>\n",
       "      <td>52</td>\n",
       "    </tr>\n",
       "    <tr>\n",
       "      <th>1</th>\n",
       "      <td>144</td>\n",
       "      <td>0.01</td>\n",
       "      <td>4.41</td>\n",
       "      <td>28.61</td>\n",
       "      <td>0</td>\n",
       "      <td>55</td>\n",
       "      <td>28.87</td>\n",
       "      <td>2.06</td>\n",
       "      <td>63</td>\n",
       "    </tr>\n",
       "    <tr>\n",
       "      <th>2</th>\n",
       "      <td>118</td>\n",
       "      <td>0.08</td>\n",
       "      <td>3.48</td>\n",
       "      <td>32.28</td>\n",
       "      <td>1</td>\n",
       "      <td>52</td>\n",
       "      <td>29.14</td>\n",
       "      <td>3.81</td>\n",
       "      <td>46</td>\n",
       "    </tr>\n",
       "    <tr>\n",
       "      <th>3</th>\n",
       "      <td>170</td>\n",
       "      <td>7.50</td>\n",
       "      <td>6.41</td>\n",
       "      <td>38.03</td>\n",
       "      <td>1</td>\n",
       "      <td>51</td>\n",
       "      <td>31.99</td>\n",
       "      <td>24.26</td>\n",
       "      <td>58</td>\n",
       "    </tr>\n",
       "    <tr>\n",
       "      <th>4</th>\n",
       "      <td>134</td>\n",
       "      <td>13.60</td>\n",
       "      <td>3.50</td>\n",
       "      <td>27.78</td>\n",
       "      <td>1</td>\n",
       "      <td>60</td>\n",
       "      <td>25.99</td>\n",
       "      <td>57.34</td>\n",
       "      <td>49</td>\n",
       "    </tr>\n",
       "  </tbody>\n",
       "</table>\n",
       "</div>"
      ],
      "text/plain": [
       "   sbp  tobacco   ldl  adiposity  famhist  typea  obesity  alcohol  age\n",
       "0  160    12.00  5.73      23.11        1     49    25.30    97.20   52\n",
       "1  144     0.01  4.41      28.61        0     55    28.87     2.06   63\n",
       "2  118     0.08  3.48      32.28        1     52    29.14     3.81   46\n",
       "3  170     7.50  6.41      38.03        1     51    31.99    24.26   58\n",
       "4  134    13.60  3.50      27.78        1     60    25.99    57.34   49"
      ]
     },
     "execution_count": 9,
     "metadata": {},
     "output_type": "execute_result"
    }
   ],
   "source": [
    "X.head()"
   ]
  },
  {
   "cell_type": "code",
   "execution_count": 10,
   "metadata": {},
   "outputs": [
    {
     "data": {
      "text/plain": [
       "0    1\n",
       "1    1\n",
       "2    0\n",
       "3    1\n",
       "4    1\n",
       "Name: chd, dtype: int64"
      ]
     },
     "execution_count": 10,
     "metadata": {},
     "output_type": "execute_result"
    }
   ],
   "source": [
    "y.head()"
   ]
  },
  {
   "cell_type": "markdown",
   "metadata": {},
   "source": [
    "> Next, split the data with a test size of 0.33 using scikit-learn [`train_test_split`](https://scikit-learn.org/stable/modules/generated/sklearn.model_selection.train_test_split.html) method."
   ]
  },
  {
   "cell_type": "code",
   "execution_count": 11,
   "metadata": {},
   "outputs": [
    {
     "name": "stdout",
     "output_type": "stream",
     "text": [
      "(309, 9)\n",
      "(309,)\n",
      "(153, 9)\n",
      "(153,)\n"
     ]
    }
   ],
   "source": [
    "# Split the data to train and test using train_test_split method with test_size=0.33\n",
    "X_train, X_test, y_train, y_test = train_test_split(X, y, test_size = 0.33)\n",
    "\n",
    "print(X_train.shape)\n",
    "print(y_train.shape)\n",
    "print(X_test.shape)\n",
    "print(y_test.shape)"
   ]
  },
  {
   "cell_type": "markdown",
   "metadata": {},
   "source": [
    "## Binary Classification"
   ]
  },
  {
   "cell_type": "markdown",
   "metadata": {},
   "source": [
    "Next, build the classifiers.\n",
    "\n",
    "\n",
    "> **Required mean cv score**: You should get at least **0.75 mean cv score** for all three classifiers (0.75 would be the rounded value with two decimal points). You may begin with the default hyperparameter values; however, you may need fine-tune them accordingly to satisfy the minimum mean cv score requirement. **If your classifier doesn't meet the cv score requirement, it will get zero.**\n",
    "\n",
    "\n",
    "> You may check out scikit-learn documentations to see what hyperparameters are available for each classifier: [Logistic Regression](https://scikit-learn.org/stable/modules/generated/sklearn.linear_model.LogisticRegression.html), [Linear SVM](https://scikit-learn.org/stable/modules/generated/sklearn.svm.LinearSVC.html#sklearn.svm.LinearSVC), [Random Forest](https://scikit-learn.org/stable/modules/generated/sklearn.ensemble.RandomForestClassifier.html).\n",
    "\n",
    "> **Note:** Whenever you perform cross validation, you should apply the method on the whole `X`, whereas when you use `.fit()` method, you apply it on `X_train` only."
   ]
  },
  {
   "cell_type": "code",
   "execution_count": 12,
   "metadata": {},
   "outputs": [
    {
     "name": "stdout",
     "output_type": "stream",
     "text": [
      "Mean CV Score - Logistic Regression:  0.7540652675968613\n"
     ]
    }
   ],
   "source": [
    "# Create a LogisticRegression with a 'liblinear' solver\n",
    "logreg_clf = LogisticRegression(solver='liblinear', C=0.8)\n",
    "\n",
    "# Perform a 10-fold cross validation with scoring='roc_auc'\n",
    "# Note: cross validation should be done on the whole X\n",
    "cv = KFold(n_splits = 10)\n",
    "logreg_cv_score = cross_val_score(logreg_clf, X, y, scoring='roc_auc', cv=cv, n_jobs=1)\n",
    "\n",
    "print(\"Mean CV Score - Logistic Regression: \", logreg_cv_score.mean())"
   ]
  },
  {
   "cell_type": "code",
   "execution_count": 13,
   "metadata": {},
   "outputs": [
    {
     "name": "stdout",
     "output_type": "stream",
     "text": [
      "Mean CV Score - Linear SVM:  0.7533530147593686\n"
     ]
    }
   ],
   "source": [
    "# Create a Linear SVM Classifier using LinearSVC()\n",
    "svm_clf = LinearSVC(intercept_scaling=3.0, max_iter = 150000, C = 0.01)\n",
    "\n",
    "\n",
    "# Perform a 10-fold cross validation with scoring='roc_auc'\n",
    "cv = KFold(n_splits = 10)\n",
    "svm_cv_score = cross_val_score(svm_clf, X, y, scoring='roc_auc', cv=cv, n_jobs=60)\n",
    "\n",
    "print(\"Mean CV Score - Linear SVM: \", svm_cv_score.mean())"
   ]
  },
  {
   "cell_type": "code",
   "execution_count": 31,
   "metadata": {},
   "outputs": [
    {
     "name": "stdout",
     "output_type": "stream",
     "text": [
      "Mean CV Score - Random Forest:  0.7551276045441958\n"
     ]
    }
   ],
   "source": [
    "# The Mean CV Score for Random Forest tends to vary significantly as such to achieve an average 0.75\n",
    "# You need to run it several times\n",
    "\n",
    "# Create a RandomForestClassifier\n",
    "rf_clf = RandomForestClassifier(n_estimators=200, criterion='entropy', ccp_alpha=0.02)\n",
    "\n",
    "# Perform a 10-fold cross validation with scoring 'roc_auc'\n",
    "cv = KFold(n_splits = 10)\n",
    "rf_cv_score = cross_val_score(rf_clf, X, y, scoring='roc_auc', cv=cv, n_jobs=1000)\n",
    "\n",
    "print(\"Mean CV Score - Random Forest: \", rf_cv_score.mean())"
   ]
  },
  {
   "cell_type": "markdown",
   "metadata": {},
   "source": [
    "> Next, you're going to fine-tune your rf classifier solely based on `max_leaf_nodes` hyperparameter. Depending on your computer speed, this may take a few minutes. Follow the comments in the following cell carefully, and plot the impact of `max_leaf_nodes` on mean cv scores. You're going to perform 10-fold cross validation. cv `scoring` will still be `roc_auc`. **Incomplete/incorrect plots will get zero.**"
   ]
  },
  {
   "cell_type": "code",
   "execution_count": 16,
   "metadata": {},
   "outputs": [
    {
     "data": {
      "text/plain": [
       "Text(0, 0.5, 'Mean cv score')"
      ]
     },
     "execution_count": 16,
     "metadata": {},
     "output_type": "execute_result"
    },
    {
     "data": {
      "image/png": "[encoded data removed]",
      "text/plain": [
       "<Figure size 432x288 with 1 Axes>"
      ]
     },
     "metadata": {
      "needs_background": "light"
     },
     "output_type": "display_data"
    }
   ],
   "source": [
    "'''Now fine-tune max_leaf_nodes hyperparameter as follows:\n",
    "\n",
    "1- Write a for loop that iterates over max_leaf_nodes_list from 1 to 100\n",
    "2- In each iteration, do 10-fold cv and calculate rf_cv_score.mean() and append it to the list rf_mean_cv_scores\n",
    "3- Finally, plot rf_mean_cv_scores on y-axis versus max_leaf_nodes_list on x-axis\n",
    "\n",
    "Your plot should have the title \"Fine-tuning max_leaf_nodes\", and proper label for each axis\n",
    "\n",
    "# Incomplete plots will get zero\n",
    "# Running this cell may take a few minutes\n",
    "'''\n",
    "#Code was run on a Ryzen 9 5950X with 64 GB RAM\n",
    "#Took around 2 minutes on average to fully complete due to the number of jobs, may take longer depending on IPC and RAM\n",
    "\n",
    "rf_mean_cv_scores = []\n",
    "max_leaf_nodes_list = range(1, 100)\n",
    "\n",
    "  \n",
    "for i in max_leaf_nodes_list:\n",
    "    rf_clf = RandomForestClassifier(n_estimators=200, criterion='entropy', ccp_alpha=0.02, max_leaf_nodes=i)\n",
    "    rf_cv_score = cross_val_score(rf_clf, X, y, scoring='roc_auc', cv=cv, n_jobs=1000)\n",
    "    rf_mean_cv_scores.append(rf_cv_score.mean())\n",
    "    \n",
    "\n",
    "  \n",
    "# Plot max_leaf_node graph\n",
    "plt.title('Fine-tuning max_leaf_nodes')\n",
    "plt.plot(max_leaf_nodes_list, rf_mean_cv_scores)\n",
    "plt.xlabel('max_leaf_nodes')\n",
    "plt.ylabel('Mean cv score')"
   ]
  },
  {
   "cell_type": "code",
   "execution_count": 32,
   "metadata": {},
   "outputs": [
    {
     "name": "stdout",
     "output_type": "stream",
     "text": [
      "sbp 0.07852750335183818\n",
      "tobacco 0.1627438187673528\n",
      "ldl 0.14349160575603706\n",
      "adiposity 0.09435216359626745\n",
      "famhist 0.041322831791717925\n",
      "typea 0.11311796819398266\n",
      "obesity 0.08629577704043437\n",
      "alcohol 0.06071835544069141\n",
      "age 0.21942997606167824\n"
     ]
    }
   ],
   "source": [
    "# Train the rf_clf on the training set using .fit() method\n",
    "rf_clf.fit(X_train, y_train)\n",
    "\n",
    "# Get feature_importances of rf_clf for all features\n",
    "for name, score in zip(heart_data, rf_clf.feature_importances_):\n",
    "    print(name, score)"
   ]
  },
  {
   "cell_type": "markdown",
   "metadata": {},
   "source": [
    "> Next, you're going to plot ROC curve. The provided code in the following cells show how you can plot ROC curve using fpr, tpr, and threshold returned by `metrics.roc_curve` and class probabilities using `predict_proba()` method. Notice that some classifiers don't have `predict_proba()`, and in that case you can use `decision_function()` method to get the scores."
   ]
  },
  {
   "cell_type": "code",
   "execution_count": 33,
   "metadata": {},
   "outputs": [],
   "source": [
    "# Get class probabilities, fpr, tpr and threshold for random forest\n",
    "rf_probs = rf_clf.predict_proba(X_test)\n",
    "rf_preds = rf_probs[:,1]\n",
    "rf_fpr, rf_tpr, rf_threshold = metrics.roc_curve(y_test, rf_preds)\n",
    "rf_roc_auc = metrics.auc(rf_fpr, rf_tpr)"
   ]
  },
  {
   "cell_type": "code",
   "execution_count": 34,
   "metadata": {},
   "outputs": [
    {
     "data": {
      "text/plain": [
       "Text(0.5, 0, 'False Positive Rate')"
      ]
     },
     "execution_count": 34,
     "metadata": {},
     "output_type": "execute_result"
    },
    {
     "data": {
      "image/png": "[encoded data removed]",
      "text/plain": [
       "<Figure size 432x288 with 1 Axes>"
      ]
     },
     "metadata": {
      "needs_background": "light"
     },
     "output_type": "display_data"
    }
   ],
   "source": [
    "# Plot ROC curve\n",
    "plt.title('ROC')\n",
    "plt.plot(rf_fpr, rf_tpr, 'b', label = 'AUC_RF = %0.2f' % rf_roc_auc)\n",
    "plt.legend(loc = 'lower right')\n",
    "plt.plot([0, 1], [0, 1],'r--')\n",
    "plt.xlim([0, 1])\n",
    "plt.ylim([0, 1])\n",
    "plt.ylabel('True Positive Rate')\n",
    "plt.xlabel('False Positive Rate')"
   ]
  },
  {
   "cell_type": "markdown",
   "metadata": {},
   "source": [
    "> Next, Plot ROC for all three classifiers in ONE plot with different colors, and with AUC scores shown on the `'lower right'` of the plot for each classifier."
   ]
  },
  {
   "cell_type": "code",
   "execution_count": 20,
   "metadata": {},
   "outputs": [
    {
     "data": {
      "text/plain": [
       "LogisticRegression(C=0.8, solver='liblinear')"
      ]
     },
     "execution_count": 20,
     "metadata": {},
     "output_type": "execute_result"
    }
   ],
   "source": [
    "# Train the svm_clf and logreg_clf on the training set using .fit() method\n",
    "\n",
    "# Train svm_clf\n",
    "svm_clf.fit(X_train, y_train)\n",
    "\n",
    "# Train logreg_clf\n",
    "logreg_clf.fit(X_train, y_train)\n"
   ]
  },
  {
   "cell_type": "code",
   "execution_count": 21,
   "metadata": {},
   "outputs": [
    {
     "data": {
      "text/plain": [
       "Text(0.5, 0, 'False Positive Rate')"
      ]
     },
     "execution_count": 21,
     "metadata": {},
     "output_type": "execute_result"
    },
    {
     "data": {
      "image/png": "[encoded data removed]",
      "text/plain": [
       "<Figure size 432x288 with 1 Axes>"
      ]
     },
     "metadata": {
      "needs_background": "light"
     },
     "output_type": "display_data"
    }
   ],
   "source": [
    "'''Plot ROC for all three classifiers with different colors in one plot,\n",
    "and with AUC scores shown on the 'lower right' of the plot.\n",
    "\n",
    "Plot should have title and axis lables.\n",
    "\n",
    "Write as many number of lines of code as needed.\n",
    "\n",
    "Hint1: You may use the code for random forest ROC curve,\n",
    "and use different names for different variables of each classifier.\n",
    "\n",
    "Hint2: LinearSVC doesn't have predict_proba() method,\n",
    "instead, you should directly use decision_function() method to compute svm_preds\n",
    "'''\n",
    "\n",
    "# Get class probabilities, fpr, tpr and threshold for Logistic Regression\n",
    "\n",
    "logreg_probs = logreg_clf.predict_proba(X_test)\n",
    "logreg_preds = logreg_probs[:,1]\n",
    "logreg_fpr, logreg_tpr, logreg_threshold = metrics.roc_curve(y_test, logreg_preds)\n",
    "logreg_roc_auc = metrics.auc(logreg_fpr, logreg_tpr)\n",
    "\n",
    "# Get class probabilities for Linear SVC\n",
    "svm_probs = svm_clf.decision_function(X_test)\n",
    "svm_fpr, svm_tpr, svm_threshold = roc_curve(y_test, svm_probs)\n",
    "svm_roc_auc = metrics.auc(svm_fpr, svm_tpr)\n",
    "\n",
    "# Plot ROC curve for Logistic Regression\n",
    "plt.title('ROC for Logistic Regression')\n",
    "plt.plot(logreg_fpr, logreg_tpr, color='green', label = 'AUC_LR = %0.2f' % logreg_roc_auc)\n",
    "plt.legend(loc = 'lower right')\n",
    "plt.plot([0, 1], [0, 1],'r--')\n",
    "plt.xlim([0, 1])\n",
    "plt.ylim([0, 1])\n",
    "plt.ylabel('True Positive Rate')\n",
    "plt.xlabel('False Positive Rate')\n",
    "\n",
    "# Plot ROC curve for Linear SVC\n",
    "plt.title('ROC for Linear SVC')\n",
    "plt.plot(svm_fpr, svm_tpr, color = 'magenta', label = 'AUC_SVC = %0.2f' % svm_roc_auc)\n",
    "plt.legend(loc = 'lower right')\n",
    "plt.plot([0, 1], [0, 1],'r--')\n",
    "plt.xlim([0, 1])\n",
    "plt.ylim([0, 1])\n",
    "plt.ylabel('True Positive Rate')\n",
    "plt.xlabel('False Positive Rate')\n",
    "\n",
    "# Plot ROC curve for Random Forest\n",
    "plt.title('ROC')\n",
    "plt.plot(rf_fpr, rf_tpr, 'b', label = 'AUC_RF = %0.2f' % rf_roc_auc)\n",
    "plt.legend(loc = 'lower right')\n",
    "plt.plot([0, 1], [0, 1],'r--')\n",
    "plt.xlim([0, 1])\n",
    "plt.ylim([0, 1])\n",
    "plt.ylabel('True Positive Rate')\n",
    "plt.xlabel('False Positive Rate')"
   ]
  },
  {
   "cell_type": "markdown",
   "metadata": {},
   "source": [
    "## Classification Questions"
   ]
  },
  {
   "cell_type": "markdown",
   "metadata": {},
   "source": [
    "Answer the following questions HERE:\n",
    "\n",
    "**Q1 (5 points)** - Which classifier has a better performace according to ROC curves above? Which one is the 2nd best according to ROC plot?\n",
    "\n",
    "Answer - Q1: Logistic Regression has the better performance according to ROC curves, this is due to it having the greater AUC value compared to Linear SVC and Random Forest. The 2nd best would be Linear SVC.\n",
    "\n",
    "**Q2 (5 points)** - What is the most important feature of this dataset for the random forest classifier? <b>Hint:</b> Check back the previous cells where you get them!\n",
    "\n",
    "Answer - Q2: I believe age is the most important feature of this dataset for random forest classifier.\n",
    "\n",
    "**Q3 (5 points)** - According to the fine-tuning plot of `max_leaf_nodes`, what is an appropriate range for `max_leaf_nodes`. You should GIVE A COMPLETE ANSWER based on your plot results, and make reasonable arguments. Incomplete answers will get ZERO!\n",
    "\n",
    "Answer - Q3: I've found values between 2000 to 3000 to net us a good reasonable increase on the AUC"
   ]
  },
  {
   "cell_type": "markdown",
   "metadata": {},
   "source": [
    "## Grading\n",
    "\n",
    "Assignment 4 has a maximum of 100 points. Make sure that you get the correct outputs and plots for all cells that you implement and give complete answers to all questions. Also, your notebook should be written with no grammatical and spelling errors and should be nicely-formatted and easy-to-read.\n",
    "\n",
    "The breakdown of the 100 points is as follows:\n",
    "\n",
    "Classification implementaion has 85 points:\n",
    "- 15 points: data preprocessing.\n",
    "- 30 points: 3 classifiers - each classifier (and cv) implementation has 10 points. Mean cv score must be at least 0.75 to get points. Otherwise the classifier will get zero.\n",
    "- 20 points: max_leaf_nodes fine-tuning plot.\n",
    "- 20 points: correct plot of 3 ROC for 3 classifiers in one plot with different colors with title and axis labels.\n",
    "\n",
    "Classification questions have 15 points (5 points each).\n",
    "\n",
    "Follow the instructions of each section carefully. Up to 10 points may be deducted if your submitted notebook is not easy to read and follow or if it has grammatical, spelling or formatting issues.\n",
    "\n",
    "Grading will be based on \n",
    "\n",
    "  * correct implementation, correct results and plots, correct answer to the questions, and\n",
    "  * readability of the notebook."
   ]
  },
  {
   "cell_type": "markdown",
   "metadata": {},
   "source": [
    "## Submission\n",
    "\n",
    "Name your notebook ```Lastname-A4.ipynb```. Submit the file using the ```Assignment-4``` link on Blackboard.\n",
    "  \n",
    "<font color=red><b>Due Date: Wednesday May 4th, 11:59PM</b></font>"
   ]
  }
 ],
 "metadata": {
  "kernelspec": {
   "display_name": "Python 3 (ipykernel)",
   "language": "python",
   "name": "python3"
  },
  "language_info": {
   "codemirror_mode": {
    "name": "ipython",
    "version": 3
   },
   "file_extension": ".py",
   "mimetype": "text/x-python",
   "name": "python",
   "nbconvert_exporter": "python",
   "pygments_lexer": "ipython3",
   "version": "3.8.10"
  }
 },
 "nbformat": 4,
 "nbformat_minor": 4
}
