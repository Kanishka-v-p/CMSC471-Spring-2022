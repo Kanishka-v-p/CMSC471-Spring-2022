{
 "cells": [
  {
   "cell_type": "markdown",
   "metadata": {},
   "source": [
    "# CMSC471 - Assignment 0: Tech Setup and Getting Started with AI\n",
    "\n",
    "## Instructor: Fereydoon Vafaei"
   ]
  },
  {
   "cell_type": "markdown",
   "metadata": {},
   "source": [
    "*Type your name and ID here*"
   ]
  },
  {
   "cell_type": "markdown",
   "metadata": {},
   "source": [
    "## Overview and Learning Objectives"
   ]
  },
  {
   "cell_type": "markdown",
   "metadata": {},
   "source": [
    "This assignment prepares you for the upcoming assignments to make sure that you have setup the frameworks properly. It also provides some interesting resources to get started with the AI world.\n",
    "\n",
    "<b>Note</b>: You must download this notebook as .ipynb file, complete it on your own computer (do NOT run it on colab), and then submit the completed notebook as an .ipynb file to Blackboard."
   ]
  },
  {
   "cell_type": "markdown",
   "metadata": {},
   "source": [
    "# Part 1 - Python Setup"
   ]
  },
  {
   "cell_type": "markdown",
   "metadata": {},
   "source": [
    "In <b>Part 1</b> of this Jupyter Notebook, you should run the following cell and make sure that your Python version is correct. Depending on what OS you're using, your output might be slightly different but the Python version must be 3.5 or higher."
   ]
  },
  {
   "cell_type": "code",
   "execution_count": 1,
   "metadata": {},
   "outputs": [
    {
     "name": "stdout",
     "output_type": "stream",
     "text": [
      "Python version\n",
      "3.8.5 (default, Sep  4 2020, 07:30:14) \n",
      "[GCC 7.3.0]\n",
      "Version info.\n",
      "sys.version_info(major=3, minor=8, micro=5, releaselevel='final', serial=0)\n"
     ]
    }
   ],
   "source": [
    "import sys\n",
    "print(\"Python version\")\n",
    "print (sys.version)\n",
    "print(\"Version info.\")\n",
    "print (sys.version_info)"
   ]
  },
  {
   "cell_type": "markdown",
   "metadata": {},
   "source": [
    "> Next, run the following cell which is an example of using [matplotlib](https://matplotlib.org/gallery/index.html)."
   ]
  },
  {
   "cell_type": "code",
   "execution_count": 2,
   "metadata": {},
   "outputs": [
    {
     "name": "stdout",
     "output_type": "stream",
     "text": [
      "[70.2, 66, 80.3, 95.2, 80, 91]\n"
     ]
    },
    {
     "data": {
      "text/plain": [
       "Text(0, 0.5, 'Grade')"
      ]
     },
     "execution_count": 2,
     "metadata": {},
     "output_type": "execute_result"
    },
    {
     "data": {
      "image/png": "[encoded data removed]",
      "text/plain": [
       "<Figure size 432x288 with 1 Axes>"
      ]
     },
     "metadata": {
      "needs_background": "light"
     },
     "output_type": "display_data"
    }
   ],
   "source": [
    "import matplotlib.pyplot as plt\n",
    "%matplotlib inline\n",
    "\n",
    "# Create a list of grades\n",
    "grades = [70.2, 66, 80.3, 95.2, 80, 91]\n",
    "\n",
    "# Print the list\n",
    "print(grades)\n",
    "\n",
    "# Plot grades\n",
    "plt.plot(grades,'-o')\n",
    "plt.xlabel('Assignment')\n",
    "plt.ylabel('Grade')"
   ]
  },
  {
   "cell_type": "markdown",
   "metadata": {},
   "source": [
    "## Part 2 - AI Myths vs Facts"
   ]
  },
  {
   "cell_type": "markdown",
   "metadata": {},
   "source": [
    "In Part 2, you should first read the following article: [Benefits & Risks of Artificial Intelligence](https://futureoflife.org/background/benefits-risks-of-artificial-intelligence/?cn-reloaded=1)\n",
    "\n",
    "Then, pick one of the Myths vs Facts mentioned in the article, quote it and then expand it by including and explaining your own opinion in at least one paragraph."
   ]
  },
  {
   "cell_type": "markdown",
   "metadata": {},
   "source": [
    "YOUR ANSWER GOES HERE:"
   ]
  },
  {
   "cell_type": "markdown",
   "metadata": {},
   "source": [
    "## Part 3 - Self-Assembling Brain"
   ]
  },
  {
   "cell_type": "markdown",
   "metadata": {},
   "source": [
    "Read the following article: [What AI researchers can learn from the self-assembling brain](https://bdtechtalks.com/2021/08/16/self-assembling-brain-book/)\n",
    "\n",
    "Summarize the article in at least four paragraphs in the following cell. Your summary should include the following four sections:\n",
    "- Arguments of Prof. Peter Robin Hiesinger with regards to genome and genetics\n",
    "- Why self-assembly is largely ignored in AI research\n",
    "- Searching for shortcuts to AI\n",
    "- New ways to think about artificial general intelligence\n",
    "\n",
    "DO NOT COPY/PASTE the article sentences, as it would be considered as plagiarism, and will be reported as academic misconduct."
   ]
  },
  {
   "cell_type": "markdown",
   "metadata": {},
   "source": [
    "Your summary goes HERE:"
   ]
  },
  {
   "cell_type": "markdown",
   "metadata": {},
   "source": [
    "## Part 4 - AI Bias"
   ]
  },
  {
   "cell_type": "markdown",
   "metadata": {},
   "source": [
    "Read the following article: [\"This is how AI bias really happens—and why it’s so hard to fix\"](https://www.technologyreview.com/2019/02/04/137602/this-is-how-ai-bias-really-happensand-why-its-so-hard-to-fix/#Echobox=1577128721).\n",
    "Summarize the article in at least two paragraphs. Your summary shopuld include the following two sections:\n",
    "- How AI bias happens\n",
    "- Why AI bias is hard to fix\n",
    "\n",
    "DO NOT COPY/PASTE the article sentences, as it would be considered as plagiarism, and will be reported as academic misconduct."
   ]
  },
  {
   "cell_type": "markdown",
   "metadata": {},
   "source": [
    "Your summary goes HERE:"
   ]
  },
  {
   "cell_type": "markdown",
   "metadata": {},
   "source": [
    "##  Grading"
   ]
  },
  {
   "cell_type": "markdown",
   "metadata": {},
   "source": [
    "- Assignment-0 has 22 points. The breakdown of the points is a s follows:\n",
    "    - Part 1: 5 points\n",
    "    - Part 2: 5 points\n",
    "    - Part 3: 8 points\n",
    "    - Part 4: 4 points\n",
    "\n",
    "- Grading will be based on completeness and correctness of all the required tasks, prompts and summaries.\n",
    "\n",
    "- <b>Note:</b> Incomplete summaries will get ZERO. Copy/pasted summaries will get ZERO and will be reported as academic misconduct.\n",
    "\n",
    "- Points will be deducted if you have mistakes in naming the file."
   ]
  },
  {
   "cell_type": "markdown",
   "metadata": {},
   "source": [
    "## Submission"
   ]
  },
  {
   "cell_type": "markdown",
   "metadata": {},
   "source": [
    "Name your completed notebook ```Lastname-A0.ipynb```.  \n",
    "\n",
    "Submit the .ipynb file using the ```Assignment-0``` link on Blackboard.\n",
    "  \n",
    "<font color=red><b>Due Date: Thursday Feb 10th, 11:59PM</b></font>"
   ]
  }
 ],
 "metadata": {
  "anaconda-cloud": {},
  "kernelspec": {
   "display_name": "Python 3 (ipykernel)",
   "language": "python",
   "name": "python3"
  },
  "language_info": {
   "codemirror_mode": {
    "name": "ipython",
    "version": 3
   },
   "file_extension": ".py",
   "mimetype": "text/x-python",
   "name": "python",
   "nbconvert_exporter": "python",
   "pygments_lexer": "ipython3",
   "version": "3.8.5"
  }
 },
 "nbformat": 4,
 "nbformat_minor": 1
}
